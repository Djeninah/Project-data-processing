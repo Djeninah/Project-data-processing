{
 "metadata": {
  "language_info": {
   "codemirror_mode": {
    "name": "ipython",
    "version": 3
   },
   "file_extension": ".py",
   "mimetype": "text/x-python",
   "name": "python",
   "nbconvert_exporter": "python",
   "pygments_lexer": "ipython3",
   "version": "3.8.5"
  },
  "orig_nbformat": 4,
  "kernelspec": {
   "name": "python385jvsc74a57bd0b840a5345ac93fda20b20a4499914d3fa1648ccd4d6ab224049f3b1918484b62",
   "display_name": "Python 3.8.5 64-bit ('base': conda)"
  },
  "interpreter": {
   "hash": "e4e9227d832dc9e17768780106ce3b9f84d4a17fc850b44b5e5a05f23459cc7d"
  }
 },
 "nbformat": 4,
 "nbformat_minor": 2,
 "cells": [
  {
   "cell_type": "code",
   "execution_count": 13,
   "metadata": {},
   "outputs": [],
   "source": [
    "import numpy as np\n",
    "import pandas as pd\n",
    "import matplotlib.pyplot as plt\n",
    "import seaborn as sns\n",
    "\n"
   ]
  },
  {
   "cell_type": "code",
   "execution_count": 19,
   "metadata": {},
   "outputs": [
    {
     "output_type": "stream",
     "name": "stdout",
     "text": [
      "Requirement already satisfied: seaborn in c:\\users\\dt044477\\anaconda3\\lib\\site-packages (0.11.0)\nRequirement already satisfied: scipy>=1.0 in c:\\users\\dt044477\\anaconda3\\lib\\site-packages (from seaborn) (1.5.2)\nRequirement already satisfied: numpy>=1.15 in c:\\users\\dt044477\\anaconda3\\lib\\site-packages (from seaborn) (1.19.2)\nRequirement already satisfied: matplotlib>=2.2 in c:\\users\\dt044477\\anaconda3\\lib\\site-packages (from seaborn) (3.3.2)\nRequirement already satisfied: pandas>=0.23 in c:\\users\\dt044477\\anaconda3\\lib\\site-packages (from seaborn) (1.1.3)\nRequirement already satisfied: cycler>=0.10 in c:\\users\\dt044477\\anaconda3\\lib\\site-packages (from matplotlib>=2.2->seaborn) (0.10.0)\nRequirement already satisfied: pillow>=6.2.0 in c:\\users\\dt044477\\anaconda3\\lib\\site-packages (from matplotlib>=2.2->seaborn) (8.0.1)\nRequirement already satisfied: python-dateutil>=2.1 in c:\\users\\dt044477\\anaconda3\\lib\\site-packages (from matplotlib>=2.2->seaborn) (2.8.1)\nRequirement already satisfied: pyparsing!=2.0.4,!=2.1.2,!=2.1.6,>=2.0.3 in c:\\users\\dt044477\\anaconda3\\lib\\site-packages (from matplotlib>=2.2->seaborn) (2.4.7)\nRequirement already satisfied: kiwisolver>=1.0.1 in c:\\users\\dt044477\\anaconda3\\lib\\site-packages (from matplotlib>=2.2->seaborn) (1.3.0)\nRequirement already satisfied: certifi>=2020.06.20 in c:\\users\\dt044477\\anaconda3\\lib\\site-packages (from matplotlib>=2.2->seaborn) (2020.6.20)\nRequirement already satisfied: pytz>=2017.2 in c:\\users\\dt044477\\anaconda3\\lib\\site-packages (from pandas>=0.23->seaborn) (2020.1)\nRequirement already satisfied: six in c:\\users\\dt044477\\anaconda3\\lib\\site-packages (from cycler>=0.10->matplotlib>=2.2->seaborn) (1.15.0)\n"
     ]
    }
   ],
   "source": [
    "!pip install seaborn"
   ]
  },
  {
   "source": [
    "# Ayiti Analytics Data Processing Bootcamp\n",
    "  Ayiti Analytics Data wants to expand its training centers throughout all the communes of the country. Your role as a data analyst is to help them realize this dream.\n",
    "\n",
    "Its objective is to know which three communes of the country will be the most likely to expand its training centers.\n",
    "\n",
    "Knowing that each cohort must have 30 students\n",
    " \n",
    "* How many applications must be made to select 25% women for each on average\n",
    "\n",
    "* What are the most effective communication channels (Alumni, Facebook, WhatsApp, Friend ...) that will allow a student to be susceptible to selection\n",
    " \n",
    "* What is the average number of university students who should participate in this program\n",
    "* What will be the average number of applications per week that we could have\n",
    "* How many weeks should we extend the application process to select 60 students per commune?\n",
    "* If we were to do all the bootcamp online, who would be the best communes and how many applications would we need to select 30 student and what percentage of students would have a laptop, an internet connection, both at the same time\n",
    "* What are the most effective communication channels (Alumni, Facebook, WhatsApp, Friend ...) that will allow a women to be susceptible to selection\n",
    "\n",
    "### NB \n",
    "Use the same framework of the BA project to complete this project\n"
   ],
   "cell_type": "markdown",
   "metadata": {}
  },
  {
   "cell_type": "code",
   "execution_count": 27,
   "metadata": {},
   "outputs": [],
   "source": [
    "commune =pd.read_excel(r\"commune.xlsx\")\n",
    "enroll= pd.read_csv(r\"enroll.csv\")\n",
    "industry =pd.read_csv(r\"industry.csv\")\n",
    "ord =pd.read_csv(r\"ord.csv\")\n",
    "quest =pd.read_csv(r\"quest.csv\")\n",
    "study_domain = pd.read_csv(r\"study_domain.csv\")\n",
    "technology = pd.read_csv(r\"technology.csv\")\n",
    "transaction =pd.read_csv(r\"transaction.csv\")\n"
   ]
  },
  {
   "cell_type": "code",
   "execution_count": 34,
   "metadata": {},
   "outputs": [
    {
     "output_type": "execute_result",
     "data": {
      "text/plain": [
       "      Commune_en     Commune_FR Commune_Id  Departement ADM1_PCODE\n",
       "0       Abricots       Abricots     HT0812  Grande'Anse       HT08\n",
       "1   Acul du Nord   Acul du Nord     HT0321        North       HT03\n",
       "2  Anse-a-Foleur  Anse-à-Foleur     HT0922   North-West       HT09\n",
       "3   Anse-a-Pitre   Anse-à-Pître     HT0234   South-East       HT02\n",
       "4    Anse-a-Veau    Anse-à-Veau     HT1021       Nippes       HT10"
      ],
      "text/html": "<div>\n<style scoped>\n    .dataframe tbody tr th:only-of-type {\n        vertical-align: middle;\n    }\n\n    .dataframe tbody tr th {\n        vertical-align: top;\n    }\n\n    .dataframe thead th {\n        text-align: right;\n    }\n</style>\n<table border=\"1\" class=\"dataframe\">\n  <thead>\n    <tr style=\"text-align: right;\">\n      <th></th>\n      <th>Commune_en</th>\n      <th>Commune_FR</th>\n      <th>Commune_Id</th>\n      <th>Departement</th>\n      <th>ADM1_PCODE</th>\n    </tr>\n  </thead>\n  <tbody>\n    <tr>\n      <th>0</th>\n      <td>Abricots</td>\n      <td>Abricots</td>\n      <td>HT0812</td>\n      <td>Grande'Anse</td>\n      <td>HT08</td>\n    </tr>\n    <tr>\n      <th>1</th>\n      <td>Acul du Nord</td>\n      <td>Acul du Nord</td>\n      <td>HT0321</td>\n      <td>North</td>\n      <td>HT03</td>\n    </tr>\n    <tr>\n      <th>2</th>\n      <td>Anse-a-Foleur</td>\n      <td>Anse-à-Foleur</td>\n      <td>HT0922</td>\n      <td>North-West</td>\n      <td>HT09</td>\n    </tr>\n    <tr>\n      <th>3</th>\n      <td>Anse-a-Pitre</td>\n      <td>Anse-à-Pître</td>\n      <td>HT0234</td>\n      <td>South-East</td>\n      <td>HT02</td>\n    </tr>\n    <tr>\n      <th>4</th>\n      <td>Anse-a-Veau</td>\n      <td>Anse-à-Veau</td>\n      <td>HT1021</td>\n      <td>Nippes</td>\n      <td>HT10</td>\n    </tr>\n  </tbody>\n</table>\n</div>"
     },
     "metadata": {},
     "execution_count": 34
    }
   ],
   "source": [
    "commune.head()"
   ]
  },
  {
   "cell_type": "code",
   "execution_count": 33,
   "metadata": {},
   "outputs": [
    {
     "output_type": "execute_result",
     "data": {
      "text/plain": [
       "   Unnamed: 0                created_at expiry_date   user_id  \\\n",
       "0           0  2020-12-12T06:41:29.844Z         NaN  29816173   \n",
       "1           1  2020-12-13T14:41:17.720Z         NaN  35229766   \n",
       "2           2  2020-12-15T00:53:06.499Z         NaN  31987560   \n",
       "3           3  2020-12-18T18:38:55.683Z         NaN  35616451   \n",
       "4           4  2020-12-21T14:45:06.528Z         NaN  35390649   \n",
       "\n",
       "                   course_name  course_id  percentage_completed  completed_at  \\\n",
       "0  Entwodiksyon Nan Syans Done    1047613                   0.0           NaN   \n",
       "1  Entwodiksyon Nan Syans Done    1047613                   0.0           NaN   \n",
       "2  Entwodiksyon Nan Syans Done    1047613                   0.0           NaN   \n",
       "3  Entwodiksyon Nan Syans Done    1047613                   0.0           NaN   \n",
       "4  Entwodiksyon Nan Syans Done    1047613                   0.0           NaN   \n",
       "\n",
       "   expired  is_free_trial  completed started_at activated_at  \\\n",
       "0    False           True      False        NaN          NaN   \n",
       "1    False           True      False        NaN          NaN   \n",
       "2    False           True      False        NaN          NaN   \n",
       "3    False           True      False        NaN          NaN   \n",
       "4    False           True      False        NaN          NaN   \n",
       "\n",
       "                 updated_at quest_id  \n",
       "0  2020-12-12T06:41:29.844Z      NaN  \n",
       "1  2020-12-13T14:41:17.720Z      NaN  \n",
       "2  2020-12-15T00:53:06.499Z      NaN  \n",
       "3  2020-12-18T18:38:55.683Z      NaN  \n",
       "4  2020-12-21T14:45:06.528Z      NaN  "
      ],
      "text/html": "<div>\n<style scoped>\n    .dataframe tbody tr th:only-of-type {\n        vertical-align: middle;\n    }\n\n    .dataframe tbody tr th {\n        vertical-align: top;\n    }\n\n    .dataframe thead th {\n        text-align: right;\n    }\n</style>\n<table border=\"1\" class=\"dataframe\">\n  <thead>\n    <tr style=\"text-align: right;\">\n      <th></th>\n      <th>Unnamed: 0</th>\n      <th>created_at</th>\n      <th>expiry_date</th>\n      <th>user_id</th>\n      <th>course_name</th>\n      <th>course_id</th>\n      <th>percentage_completed</th>\n      <th>completed_at</th>\n      <th>expired</th>\n      <th>is_free_trial</th>\n      <th>completed</th>\n      <th>started_at</th>\n      <th>activated_at</th>\n      <th>updated_at</th>\n      <th>quest_id</th>\n    </tr>\n  </thead>\n  <tbody>\n    <tr>\n      <th>0</th>\n      <td>0</td>\n      <td>2020-12-12T06:41:29.844Z</td>\n      <td>NaN</td>\n      <td>29816173</td>\n      <td>Entwodiksyon Nan Syans Done</td>\n      <td>1047613</td>\n      <td>0.0</td>\n      <td>NaN</td>\n      <td>False</td>\n      <td>True</td>\n      <td>False</td>\n      <td>NaN</td>\n      <td>NaN</td>\n      <td>2020-12-12T06:41:29.844Z</td>\n      <td>NaN</td>\n    </tr>\n    <tr>\n      <th>1</th>\n      <td>1</td>\n      <td>2020-12-13T14:41:17.720Z</td>\n      <td>NaN</td>\n      <td>35229766</td>\n      <td>Entwodiksyon Nan Syans Done</td>\n      <td>1047613</td>\n      <td>0.0</td>\n      <td>NaN</td>\n      <td>False</td>\n      <td>True</td>\n      <td>False</td>\n      <td>NaN</td>\n      <td>NaN</td>\n      <td>2020-12-13T14:41:17.720Z</td>\n      <td>NaN</td>\n    </tr>\n    <tr>\n      <th>2</th>\n      <td>2</td>\n      <td>2020-12-15T00:53:06.499Z</td>\n      <td>NaN</td>\n      <td>31987560</td>\n      <td>Entwodiksyon Nan Syans Done</td>\n      <td>1047613</td>\n      <td>0.0</td>\n      <td>NaN</td>\n      <td>False</td>\n      <td>True</td>\n      <td>False</td>\n      <td>NaN</td>\n      <td>NaN</td>\n      <td>2020-12-15T00:53:06.499Z</td>\n      <td>NaN</td>\n    </tr>\n    <tr>\n      <th>3</th>\n      <td>3</td>\n      <td>2020-12-18T18:38:55.683Z</td>\n      <td>NaN</td>\n      <td>35616451</td>\n      <td>Entwodiksyon Nan Syans Done</td>\n      <td>1047613</td>\n      <td>0.0</td>\n      <td>NaN</td>\n      <td>False</td>\n      <td>True</td>\n      <td>False</td>\n      <td>NaN</td>\n      <td>NaN</td>\n      <td>2020-12-18T18:38:55.683Z</td>\n      <td>NaN</td>\n    </tr>\n    <tr>\n      <th>4</th>\n      <td>4</td>\n      <td>2020-12-21T14:45:06.528Z</td>\n      <td>NaN</td>\n      <td>35390649</td>\n      <td>Entwodiksyon Nan Syans Done</td>\n      <td>1047613</td>\n      <td>0.0</td>\n      <td>NaN</td>\n      <td>False</td>\n      <td>True</td>\n      <td>False</td>\n      <td>NaN</td>\n      <td>NaN</td>\n      <td>2020-12-21T14:45:06.528Z</td>\n      <td>NaN</td>\n    </tr>\n  </tbody>\n</table>\n</div>"
     },
     "metadata": {},
     "execution_count": 33
    }
   ],
   "source": [
    "enroll.head()"
   ]
  },
  {
   "cell_type": "code",
   "execution_count": 32,
   "metadata": {},
   "outputs": [
    {
     "output_type": "execute_result",
     "data": {
      "text/plain": [
       "   Unnamed: 0    key                           values  \\\n",
       "0           0  item1                          Finance   \n",
       "1           1  item6  Technology (Software/ Internet)   \n",
       "2           2  item5                        Education   \n",
       "3           3  item3                       Consulting   \n",
       "4           4  item7                           Energy   \n",
       "\n",
       "                               quest_id  \n",
       "0  905ddcf2-ce95-11eb-9a92-7c67a234f601  \n",
       "1  905e2608-ce95-11eb-809f-7c67a234f601  \n",
       "2  905e2608-ce95-11eb-809f-7c67a234f601  \n",
       "3  905e2608-ce95-11eb-809f-7c67a234f601  \n",
       "4  905e2608-ce95-11eb-809f-7c67a234f601  "
      ],
      "text/html": "<div>\n<style scoped>\n    .dataframe tbody tr th:only-of-type {\n        vertical-align: middle;\n    }\n\n    .dataframe tbody tr th {\n        vertical-align: top;\n    }\n\n    .dataframe thead th {\n        text-align: right;\n    }\n</style>\n<table border=\"1\" class=\"dataframe\">\n  <thead>\n    <tr style=\"text-align: right;\">\n      <th></th>\n      <th>Unnamed: 0</th>\n      <th>key</th>\n      <th>values</th>\n      <th>quest_id</th>\n    </tr>\n  </thead>\n  <tbody>\n    <tr>\n      <th>0</th>\n      <td>0</td>\n      <td>item1</td>\n      <td>Finance</td>\n      <td>905ddcf2-ce95-11eb-9a92-7c67a234f601</td>\n    </tr>\n    <tr>\n      <th>1</th>\n      <td>1</td>\n      <td>item6</td>\n      <td>Technology (Software/ Internet)</td>\n      <td>905e2608-ce95-11eb-809f-7c67a234f601</td>\n    </tr>\n    <tr>\n      <th>2</th>\n      <td>2</td>\n      <td>item5</td>\n      <td>Education</td>\n      <td>905e2608-ce95-11eb-809f-7c67a234f601</td>\n    </tr>\n    <tr>\n      <th>3</th>\n      <td>3</td>\n      <td>item3</td>\n      <td>Consulting</td>\n      <td>905e2608-ce95-11eb-809f-7c67a234f601</td>\n    </tr>\n    <tr>\n      <th>4</th>\n      <td>4</td>\n      <td>item7</td>\n      <td>Energy</td>\n      <td>905e2608-ce95-11eb-809f-7c67a234f601</td>\n    </tr>\n  </tbody>\n</table>\n</div>"
     },
     "metadata": {},
     "execution_count": 32
    }
   ],
   "source": [
    "industry.head()"
   ]
  },
  {
   "cell_type": "code",
   "execution_count": 29,
   "metadata": {},
   "outputs": [
    {
     "output_type": "execute_result",
     "data": {
      "text/plain": [
       "   Unnamed: 0                created_at   user_id  \\\n",
       "0           0  2021-03-14T15:34:35.014Z  41587952   \n",
       "1           1  2021-03-14T04:20:23.483Z  41564742   \n",
       "2           2  2021-03-12T19:29:22.832Z  41501853   \n",
       "3           3  2021-03-12T14:23:11.154Z  40284930   \n",
       "4           4  2021-03-11T16:01:17.901Z  40281483   \n",
       "\n",
       "                  product_name  product_id  amount_dollars  amount_cents  \\\n",
       "0  Entwodiksyon Nan Syans Done     1100636              20          2000   \n",
       "1  Entwodiksyon Nan Syans Done     1100636              20          2000   \n",
       "2  Entwodiksyon Nan Syans Done     1100636              20          2000   \n",
       "3  Entwodiksyon Nan Syans Done     1100636               0             0   \n",
       "4  Entwodiksyon Nan Syans Done     1100636              20          2000   \n",
       "\n",
       "   subscription        coupon_code  coupon_id  affiliate_referral_code  \\\n",
       "0         False                NaN        NaN                      NaN   \n",
       "1         False                NaN        NaN                      NaN   \n",
       "2         False                NaN        NaN                      NaN   \n",
       "3         False  impact_hub_coupon  6658457.0                      NaN   \n",
       "4         False                NaN        NaN                      NaN   \n",
       "\n",
       "     status                              quest_id  \n",
       "0  Complete  906b3c86-ce95-11eb-b6a7-7c67a234f601  \n",
       "1  Complete  906636cf-ce95-11eb-8679-7c67a234f601  \n",
       "2  Complete  906968f5-ce95-11eb-9e1a-7c67a234f601  \n",
       "3  Complete  9060477c-ce95-11eb-ace3-7c67a234f601  \n",
       "4  Complete  9064ff29-ce95-11eb-a3d3-7c67a234f601  "
      ],
      "text/html": "<div>\n<style scoped>\n    .dataframe tbody tr th:only-of-type {\n        vertical-align: middle;\n    }\n\n    .dataframe tbody tr th {\n        vertical-align: top;\n    }\n\n    .dataframe thead th {\n        text-align: right;\n    }\n</style>\n<table border=\"1\" class=\"dataframe\">\n  <thead>\n    <tr style=\"text-align: right;\">\n      <th></th>\n      <th>Unnamed: 0</th>\n      <th>created_at</th>\n      <th>user_id</th>\n      <th>product_name</th>\n      <th>product_id</th>\n      <th>amount_dollars</th>\n      <th>amount_cents</th>\n      <th>subscription</th>\n      <th>coupon_code</th>\n      <th>coupon_id</th>\n      <th>affiliate_referral_code</th>\n      <th>status</th>\n      <th>quest_id</th>\n    </tr>\n  </thead>\n  <tbody>\n    <tr>\n      <th>0</th>\n      <td>0</td>\n      <td>2021-03-14T15:34:35.014Z</td>\n      <td>41587952</td>\n      <td>Entwodiksyon Nan Syans Done</td>\n      <td>1100636</td>\n      <td>20</td>\n      <td>2000</td>\n      <td>False</td>\n      <td>NaN</td>\n      <td>NaN</td>\n      <td>NaN</td>\n      <td>Complete</td>\n      <td>906b3c86-ce95-11eb-b6a7-7c67a234f601</td>\n    </tr>\n    <tr>\n      <th>1</th>\n      <td>1</td>\n      <td>2021-03-14T04:20:23.483Z</td>\n      <td>41564742</td>\n      <td>Entwodiksyon Nan Syans Done</td>\n      <td>1100636</td>\n      <td>20</td>\n      <td>2000</td>\n      <td>False</td>\n      <td>NaN</td>\n      <td>NaN</td>\n      <td>NaN</td>\n      <td>Complete</td>\n      <td>906636cf-ce95-11eb-8679-7c67a234f601</td>\n    </tr>\n    <tr>\n      <th>2</th>\n      <td>2</td>\n      <td>2021-03-12T19:29:22.832Z</td>\n      <td>41501853</td>\n      <td>Entwodiksyon Nan Syans Done</td>\n      <td>1100636</td>\n      <td>20</td>\n      <td>2000</td>\n      <td>False</td>\n      <td>NaN</td>\n      <td>NaN</td>\n      <td>NaN</td>\n      <td>Complete</td>\n      <td>906968f5-ce95-11eb-9e1a-7c67a234f601</td>\n    </tr>\n    <tr>\n      <th>3</th>\n      <td>3</td>\n      <td>2021-03-12T14:23:11.154Z</td>\n      <td>40284930</td>\n      <td>Entwodiksyon Nan Syans Done</td>\n      <td>1100636</td>\n      <td>0</td>\n      <td>0</td>\n      <td>False</td>\n      <td>impact_hub_coupon</td>\n      <td>6658457.0</td>\n      <td>NaN</td>\n      <td>Complete</td>\n      <td>9060477c-ce95-11eb-ace3-7c67a234f601</td>\n    </tr>\n    <tr>\n      <th>4</th>\n      <td>4</td>\n      <td>2021-03-11T16:01:17.901Z</td>\n      <td>40281483</td>\n      <td>Entwodiksyon Nan Syans Done</td>\n      <td>1100636</td>\n      <td>20</td>\n      <td>2000</td>\n      <td>False</td>\n      <td>NaN</td>\n      <td>NaN</td>\n      <td>NaN</td>\n      <td>Complete</td>\n      <td>9064ff29-ce95-11eb-a3d3-7c67a234f601</td>\n    </tr>\n  </tbody>\n</table>\n</div>"
     },
     "metadata": {},
     "execution_count": 29
    }
   ],
   "source": [
    "ord.head()"
   ]
  },
  {
   "cell_type": "code",
   "execution_count": 31,
   "metadata": {},
   "outputs": [
    {
     "output_type": "execute_result",
     "data": {
      "text/plain": [
       "   Unnamed: 0  gender         dob commune                   created_at  \\\n",
       "0           0    male  25/08/1998  ht0111  2021-02-14T23:03:52.768400Z   \n",
       "1           1  female  29/09/1996  ht0111  2021-02-16T16:01:10.861844Z   \n",
       "2           2    male  17/05/1996  ht0111  2021-02-16T16:56:30.579504Z   \n",
       "3           3    male  24/11/1996  ht0111  2021-02-16T16:57:55.754541Z   \n",
       "4           4    male  20/07/1997  ht0111  2021-02-16T17:05:40.907948Z   \n",
       "\n",
       "                   modified_at department         education_level  \\\n",
       "0  2021-02-14T23:03:52.768462Z        NaN                 unknown   \n",
       "1  2021-02-16T16:01:10.861899Z       ht01     Bachelors (bacc +4)   \n",
       "2  2021-02-16T16:56:30.579563Z       ht01     Bachelors (bacc +4)   \n",
       "3  2021-02-16T16:57:55.754582Z       ht01     Bachelors (bacc +4)   \n",
       "4  2021-02-16T17:05:40.907982Z       ht01  High School (16 years)   \n",
       "\n",
       "                                       university        study_domain  \\\n",
       "0                                         unknown                  []   \n",
       "1                                           other           ['other']   \n",
       "2                 Université d'Etat d'Haïti (UEH)                  []   \n",
       "3  Ecole Supérieure d'Infotronique d'Haïti (ESIH)  ['item1', 'item6']   \n",
       "4                                         unknown           ['other']   \n",
       "\n",
       "  current_employed formal_sector_job have_computer_home internet_at_home  \\\n",
       "0          unknown           unknown            unknown          unknown   \n",
       "1               No           unknown                Yes              Yes   \n",
       "2               No           unknown                Yes              Yes   \n",
       "3               No           unknown                Yes              Yes   \n",
       "4               No           unknown                Yes              Yes   \n",
       "\n",
       "  hear_AA_1                           after_AA  \\\n",
       "0   unknown                            unknown   \n",
       "1    Friend           Finding a job/internship   \n",
       "2    Friend  Improving my data analysis skills   \n",
       "3      ESIH  Improving my data analysis skills   \n",
       "4  WhatsApp                         Mentorship   \n",
       "\n",
       "                               quest_id  \n",
       "0  905dc006-ce95-11eb-b2f9-7c67a234f601  \n",
       "1  905ddcf2-ce95-11eb-9a92-7c67a234f601  \n",
       "2  905e2608-ce95-11eb-809f-7c67a234f601  \n",
       "3  905e4cf5-ce95-11eb-96a9-7c67a234f601  \n",
       "4  905e73fd-ce95-11eb-a7b0-7c67a234f601  "
      ],
      "text/html": "<div>\n<style scoped>\n    .dataframe tbody tr th:only-of-type {\n        vertical-align: middle;\n    }\n\n    .dataframe tbody tr th {\n        vertical-align: top;\n    }\n\n    .dataframe thead th {\n        text-align: right;\n    }\n</style>\n<table border=\"1\" class=\"dataframe\">\n  <thead>\n    <tr style=\"text-align: right;\">\n      <th></th>\n      <th>Unnamed: 0</th>\n      <th>gender</th>\n      <th>dob</th>\n      <th>commune</th>\n      <th>created_at</th>\n      <th>modified_at</th>\n      <th>department</th>\n      <th>education_level</th>\n      <th>university</th>\n      <th>study_domain</th>\n      <th>current_employed</th>\n      <th>formal_sector_job</th>\n      <th>have_computer_home</th>\n      <th>internet_at_home</th>\n      <th>hear_AA_1</th>\n      <th>after_AA</th>\n      <th>quest_id</th>\n    </tr>\n  </thead>\n  <tbody>\n    <tr>\n      <th>0</th>\n      <td>0</td>\n      <td>male</td>\n      <td>25/08/1998</td>\n      <td>ht0111</td>\n      <td>2021-02-14T23:03:52.768400Z</td>\n      <td>2021-02-14T23:03:52.768462Z</td>\n      <td>NaN</td>\n      <td>unknown</td>\n      <td>unknown</td>\n      <td>[]</td>\n      <td>unknown</td>\n      <td>unknown</td>\n      <td>unknown</td>\n      <td>unknown</td>\n      <td>unknown</td>\n      <td>unknown</td>\n      <td>905dc006-ce95-11eb-b2f9-7c67a234f601</td>\n    </tr>\n    <tr>\n      <th>1</th>\n      <td>1</td>\n      <td>female</td>\n      <td>29/09/1996</td>\n      <td>ht0111</td>\n      <td>2021-02-16T16:01:10.861844Z</td>\n      <td>2021-02-16T16:01:10.861899Z</td>\n      <td>ht01</td>\n      <td>Bachelors (bacc +4)</td>\n      <td>other</td>\n      <td>['other']</td>\n      <td>No</td>\n      <td>unknown</td>\n      <td>Yes</td>\n      <td>Yes</td>\n      <td>Friend</td>\n      <td>Finding a job/internship</td>\n      <td>905ddcf2-ce95-11eb-9a92-7c67a234f601</td>\n    </tr>\n    <tr>\n      <th>2</th>\n      <td>2</td>\n      <td>male</td>\n      <td>17/05/1996</td>\n      <td>ht0111</td>\n      <td>2021-02-16T16:56:30.579504Z</td>\n      <td>2021-02-16T16:56:30.579563Z</td>\n      <td>ht01</td>\n      <td>Bachelors (bacc +4)</td>\n      <td>Université d'Etat d'Haïti (UEH)</td>\n      <td>[]</td>\n      <td>No</td>\n      <td>unknown</td>\n      <td>Yes</td>\n      <td>Yes</td>\n      <td>Friend</td>\n      <td>Improving my data analysis skills</td>\n      <td>905e2608-ce95-11eb-809f-7c67a234f601</td>\n    </tr>\n    <tr>\n      <th>3</th>\n      <td>3</td>\n      <td>male</td>\n      <td>24/11/1996</td>\n      <td>ht0111</td>\n      <td>2021-02-16T16:57:55.754541Z</td>\n      <td>2021-02-16T16:57:55.754582Z</td>\n      <td>ht01</td>\n      <td>Bachelors (bacc +4)</td>\n      <td>Ecole Supérieure d'Infotronique d'Haïti (ESIH)</td>\n      <td>['item1', 'item6']</td>\n      <td>No</td>\n      <td>unknown</td>\n      <td>Yes</td>\n      <td>Yes</td>\n      <td>ESIH</td>\n      <td>Improving my data analysis skills</td>\n      <td>905e4cf5-ce95-11eb-96a9-7c67a234f601</td>\n    </tr>\n    <tr>\n      <th>4</th>\n      <td>4</td>\n      <td>male</td>\n      <td>20/07/1997</td>\n      <td>ht0111</td>\n      <td>2021-02-16T17:05:40.907948Z</td>\n      <td>2021-02-16T17:05:40.907982Z</td>\n      <td>ht01</td>\n      <td>High School (16 years)</td>\n      <td>unknown</td>\n      <td>['other']</td>\n      <td>No</td>\n      <td>unknown</td>\n      <td>Yes</td>\n      <td>Yes</td>\n      <td>WhatsApp</td>\n      <td>Mentorship</td>\n      <td>905e73fd-ce95-11eb-a7b0-7c67a234f601</td>\n    </tr>\n  </tbody>\n</table>\n</div>"
     },
     "metadata": {},
     "execution_count": 31
    }
   ],
   "source": [
    "quest.head()"
   ]
  },
  {
   "cell_type": "code",
   "execution_count": 35,
   "metadata": {},
   "outputs": [
    {
     "output_type": "execute_result",
     "data": {
      "text/plain": [
       "   Unnamed: 0    key            values                              quest_id\n",
       "0           0  other             other  905ddcf2-ce95-11eb-9a92-7c67a234f601\n",
       "1           1  item1  Computer Science  905e4cf5-ce95-11eb-96a9-7c67a234f601\n",
       "2           2  item6        Management  905e4cf5-ce95-11eb-96a9-7c67a234f601\n",
       "3           3  other             other  905e73fd-ce95-11eb-a7b0-7c67a234f601\n",
       "4           4  other             other  905e9b27-ce95-11eb-9c37-7c67a234f601"
      ],
      "text/html": "<div>\n<style scoped>\n    .dataframe tbody tr th:only-of-type {\n        vertical-align: middle;\n    }\n\n    .dataframe tbody tr th {\n        vertical-align: top;\n    }\n\n    .dataframe thead th {\n        text-align: right;\n    }\n</style>\n<table border=\"1\" class=\"dataframe\">\n  <thead>\n    <tr style=\"text-align: right;\">\n      <th></th>\n      <th>Unnamed: 0</th>\n      <th>key</th>\n      <th>values</th>\n      <th>quest_id</th>\n    </tr>\n  </thead>\n  <tbody>\n    <tr>\n      <th>0</th>\n      <td>0</td>\n      <td>other</td>\n      <td>other</td>\n      <td>905ddcf2-ce95-11eb-9a92-7c67a234f601</td>\n    </tr>\n    <tr>\n      <th>1</th>\n      <td>1</td>\n      <td>item1</td>\n      <td>Computer Science</td>\n      <td>905e4cf5-ce95-11eb-96a9-7c67a234f601</td>\n    </tr>\n    <tr>\n      <th>2</th>\n      <td>2</td>\n      <td>item6</td>\n      <td>Management</td>\n      <td>905e4cf5-ce95-11eb-96a9-7c67a234f601</td>\n    </tr>\n    <tr>\n      <th>3</th>\n      <td>3</td>\n      <td>other</td>\n      <td>other</td>\n      <td>905e73fd-ce95-11eb-a7b0-7c67a234f601</td>\n    </tr>\n    <tr>\n      <th>4</th>\n      <td>4</td>\n      <td>other</td>\n      <td>other</td>\n      <td>905e9b27-ce95-11eb-9c37-7c67a234f601</td>\n    </tr>\n  </tbody>\n</table>\n</div>"
     },
     "metadata": {},
     "execution_count": 35
    }
   ],
   "source": [
    "study_domain.head()"
   ]
  },
  {
   "cell_type": "code",
   "execution_count": 36,
   "metadata": {},
   "outputs": [
    {
     "output_type": "execute_result",
     "data": {
      "text/plain": [
       "   Unnamed: 0     key      values                              quest_id\n",
       "0           0   item1           R  905ddcf2-ce95-11eb-9a92-7c67a234f601\n",
       "1           1  item11       Excel  905ddcf2-ce95-11eb-9a92-7c67a234f601\n",
       "2           2   item2      Python  905e2608-ce95-11eb-809f-7c67a234f601\n",
       "3           3   item3        Java  905e2608-ce95-11eb-809f-7c67a234f601\n",
       "4           4   item4  JavaScript  905e2608-ce95-11eb-809f-7c67a234f601"
      ],
      "text/html": "<div>\n<style scoped>\n    .dataframe tbody tr th:only-of-type {\n        vertical-align: middle;\n    }\n\n    .dataframe tbody tr th {\n        vertical-align: top;\n    }\n\n    .dataframe thead th {\n        text-align: right;\n    }\n</style>\n<table border=\"1\" class=\"dataframe\">\n  <thead>\n    <tr style=\"text-align: right;\">\n      <th></th>\n      <th>Unnamed: 0</th>\n      <th>key</th>\n      <th>values</th>\n      <th>quest_id</th>\n    </tr>\n  </thead>\n  <tbody>\n    <tr>\n      <th>0</th>\n      <td>0</td>\n      <td>item1</td>\n      <td>R</td>\n      <td>905ddcf2-ce95-11eb-9a92-7c67a234f601</td>\n    </tr>\n    <tr>\n      <th>1</th>\n      <td>1</td>\n      <td>item11</td>\n      <td>Excel</td>\n      <td>905ddcf2-ce95-11eb-9a92-7c67a234f601</td>\n    </tr>\n    <tr>\n      <th>2</th>\n      <td>2</td>\n      <td>item2</td>\n      <td>Python</td>\n      <td>905e2608-ce95-11eb-809f-7c67a234f601</td>\n    </tr>\n    <tr>\n      <th>3</th>\n      <td>3</td>\n      <td>item3</td>\n      <td>Java</td>\n      <td>905e2608-ce95-11eb-809f-7c67a234f601</td>\n    </tr>\n    <tr>\n      <th>4</th>\n      <td>4</td>\n      <td>item4</td>\n      <td>JavaScript</td>\n      <td>905e2608-ce95-11eb-809f-7c67a234f601</td>\n    </tr>\n  </tbody>\n</table>\n</div>"
     },
     "metadata": {},
     "execution_count": 36
    }
   ],
   "source": [
    "technology.head()"
   ]
  },
  {
   "cell_type": "code",
   "execution_count": 37,
   "metadata": {},
   "outputs": [
    {
     "output_type": "execute_result",
     "data": {
      "text/plain": [
       "   Unnamed: 0                created_at               modified_at   user_id  \\\n",
       "0           0  2021-03-08T05:08:50.832Z  2021-03-08T05:08:50.832Z  40976440   \n",
       "1           1  2021-03-08T17:26:35.841Z  2021-03-08T17:26:35.841Z  41179271   \n",
       "2           2  2021-03-08T18:52:09.147Z  2021-03-08T18:52:09.147Z  40973512   \n",
       "3           3  2021-03-08T19:06:32.837Z  2021-03-08T19:06:32.837Z  41177453   \n",
       "4           4  2021-03-08T22:10:00.796Z  2021-03-08T22:10:00.796Z  40797121   \n",
       "\n",
       "   course_id  transaction_id  \n",
       "0    1047613      4641281952  \n",
       "1    1047613      4644270160  \n",
       "2    1047613      4645070622  \n",
       "3    1047613      4645208830  \n",
       "4    1047613      4646815401  "
      ],
      "text/html": "<div>\n<style scoped>\n    .dataframe tbody tr th:only-of-type {\n        vertical-align: middle;\n    }\n\n    .dataframe tbody tr th {\n        vertical-align: top;\n    }\n\n    .dataframe thead th {\n        text-align: right;\n    }\n</style>\n<table border=\"1\" class=\"dataframe\">\n  <thead>\n    <tr style=\"text-align: right;\">\n      <th></th>\n      <th>Unnamed: 0</th>\n      <th>created_at</th>\n      <th>modified_at</th>\n      <th>user_id</th>\n      <th>course_id</th>\n      <th>transaction_id</th>\n    </tr>\n  </thead>\n  <tbody>\n    <tr>\n      <th>0</th>\n      <td>0</td>\n      <td>2021-03-08T05:08:50.832Z</td>\n      <td>2021-03-08T05:08:50.832Z</td>\n      <td>40976440</td>\n      <td>1047613</td>\n      <td>4641281952</td>\n    </tr>\n    <tr>\n      <th>1</th>\n      <td>1</td>\n      <td>2021-03-08T17:26:35.841Z</td>\n      <td>2021-03-08T17:26:35.841Z</td>\n      <td>41179271</td>\n      <td>1047613</td>\n      <td>4644270160</td>\n    </tr>\n    <tr>\n      <th>2</th>\n      <td>2</td>\n      <td>2021-03-08T18:52:09.147Z</td>\n      <td>2021-03-08T18:52:09.147Z</td>\n      <td>40973512</td>\n      <td>1047613</td>\n      <td>4645070622</td>\n    </tr>\n    <tr>\n      <th>3</th>\n      <td>3</td>\n      <td>2021-03-08T19:06:32.837Z</td>\n      <td>2021-03-08T19:06:32.837Z</td>\n      <td>41177453</td>\n      <td>1047613</td>\n      <td>4645208830</td>\n    </tr>\n    <tr>\n      <th>4</th>\n      <td>4</td>\n      <td>2021-03-08T22:10:00.796Z</td>\n      <td>2021-03-08T22:10:00.796Z</td>\n      <td>40797121</td>\n      <td>1047613</td>\n      <td>4646815401</td>\n    </tr>\n  </tbody>\n</table>\n</div>"
     },
     "metadata": {},
     "execution_count": 37
    }
   ],
   "source": [
    "transaction.head()"
   ]
  },
  {
   "cell_type": "code",
   "execution_count": 45,
   "metadata": {},
   "outputs": [],
   "source": [
    "questEnroll = pd.merge(quest,enroll,right_on= \"quest_id\",left_on= \"quest_id\")"
   ]
  },
  {
   "cell_type": "code",
   "execution_count": 47,
   "metadata": {},
   "outputs": [
    {
     "output_type": "execute_result",
     "data": {
      "text/plain": [
       "     Unnamed: 0_x  gender         dob commune                 created_at_x  \\\n",
       "0               0    male  25/08/1998  ht0111  2021-02-14T23:03:52.768400Z   \n",
       "1               2    male  17/05/1996  ht0111  2021-02-16T16:56:30.579504Z   \n",
       "2               6  female  30/04/1988  ht0111  2021-02-16T20:06:17.885833Z   \n",
       "3               7  female  10/09/1996  ht0111  2021-02-16T22:54:19.490806Z   \n",
       "4              11  female  30/12/1994  ht0111  2021-02-17T04:35:17.193779Z   \n",
       "..            ...     ...         ...     ...                          ...   \n",
       "97            238    male  09/08/1991  ht0311  2021-03-03T00:04:49.909094Z   \n",
       "98            245    male  15/02/1994  ht0621  2021-03-02T18:39:19.873194Z   \n",
       "99            247    male  28/12/1993  ht0621  2021-03-14T15:29:32.474015Z   \n",
       "100           248    male  17/04/1992  ht0412  2021-03-08T16:35:07.806100Z   \n",
       "101           249    male  22/07/1993  ht1012  2021-03-10T21:41:05.708748Z   \n",
       "\n",
       "                     modified_at department      education_level  \\\n",
       "0    2021-02-14T23:03:52.768462Z        NaN              unknown   \n",
       "1    2021-02-16T16:56:30.579563Z       ht01  Bachelors (bacc +4)   \n",
       "2    2021-02-16T20:06:17.885862Z       ht01              Masters   \n",
       "3    2021-02-16T22:54:19.490841Z       ht01  Bachelors (bacc +4)   \n",
       "4    2021-02-17T04:35:17.193835Z       ht01                Other   \n",
       "..                           ...        ...                  ...   \n",
       "97   2021-03-03T00:04:49.909160Z       ht03                Other   \n",
       "98   2021-03-02T18:39:19.873237Z       ht06  Bachelors (bacc +4)   \n",
       "99   2021-03-14T15:29:32.474055Z       ht06  Bachelors (bacc +4)   \n",
       "100  2021-03-08T16:35:07.806161Z       ht04  Bachelors (bacc +4)   \n",
       "101  2021-03-10T21:41:05.708787Z       ht10              Masters   \n",
       "\n",
       "                                            university study_domain  ...  \\\n",
       "0                                              unknown           []  ...   \n",
       "1                      Université d'Etat d'Haïti (UEH)           []  ...   \n",
       "2       Ecole Supérieure d'Infotronique d'Haïti (ESIH)    ['item1']  ...   \n",
       "3       Ecole Supérieure d'Infotronique d'Haïti (ESIH)    ['item1']  ...   \n",
       "4                                              unknown    ['item1']  ...   \n",
       "..                                                 ...          ...  ...   \n",
       "97                                             unknown    ['item7']  ...   \n",
       "98                                               other    ['other']  ...   \n",
       "99   Centre de Techniques de Planification et d'Eco...    ['item2']  ...   \n",
       "100                                              other    ['item1']  ...   \n",
       "101                                              other    ['other']  ...   \n",
       "\n",
       "                     course_name course_id percentage_completed completed_at  \\\n",
       "0    Entwodiksyon Nan Syans Done   1047613             0.000000          NaN   \n",
       "1    Entwodiksyon Nan Syans Done   1047613             0.325581          NaN   \n",
       "2    Entwodiksyon Nan Syans Done   1047613             0.452381          NaN   \n",
       "3    Entwodiksyon Nan Syans Done   1047613             0.488372          NaN   \n",
       "4    Entwodiksyon Nan Syans Done   1047613             0.023810          NaN   \n",
       "..                           ...       ...                  ...          ...   \n",
       "97   Entwodiksyon Nan Syans Done   1047613             0.023810          NaN   \n",
       "98   Entwodiksyon Nan Syans Done   1047613             0.883721          NaN   \n",
       "99   Entwodiksyon Nan Syans Done   1047613             0.325581          NaN   \n",
       "100  Entwodiksyon Nan Syans Done   1047613             0.418605          NaN   \n",
       "101  Entwodiksyon Nan Syans Done   1047613             0.279070          NaN   \n",
       "\n",
       "    expired is_free_trial completed                started_at  \\\n",
       "0     False          True     False  2021-02-17T08:43:53.457Z   \n",
       "1     False         False     False  2021-02-20T21:20:37.814Z   \n",
       "2     False         False     False  2021-02-16T20:16:36.279Z   \n",
       "3     False         False     False  2021-02-24T16:55:14.134Z   \n",
       "4     False          True     False  2021-02-19T02:33:12.624Z   \n",
       "..      ...           ...       ...                       ...   \n",
       "97    False          True     False  2021-03-03T00:12:32.686Z   \n",
       "98    False         False     False  2021-03-02T18:45:27.034Z   \n",
       "99    False         False     False  2021-03-14T15:34:56.007Z   \n",
       "100   False         False     False  2021-03-08T19:10:36.694Z   \n",
       "101   False         False     False  2021-03-14T02:18:52.472Z   \n",
       "\n",
       "                 activated_at                updated_at  \n",
       "0                         NaN  2021-02-17T08:44:09.561Z  \n",
       "1    2021-03-03T23:00:11.000Z  2021-03-09T13:57:49.729Z  \n",
       "2    2021-02-22T19:16:40.434Z  2021-03-03T21:50:17.810Z  \n",
       "3    2021-02-24T16:53:16.000Z  2021-03-10T10:24:48.284Z  \n",
       "4                         NaN  2021-03-03T21:50:19.877Z  \n",
       "..                        ...                       ...  \n",
       "97                        NaN  2021-03-03T21:50:29.543Z  \n",
       "98   2021-03-02T18:53:20.000Z  2021-03-13T05:43:58.022Z  \n",
       "99   2021-03-14T15:34:39.768Z  2021-03-14T17:30:53.379Z  \n",
       "100  2021-03-08T19:06:32.000Z  2021-03-14T16:28:07.992Z  \n",
       "101  2021-03-14T02:16:08.000Z  2021-03-14T03:32:18.768Z  \n",
       "\n",
       "[102 rows x 31 columns]"
      ],
      "text/html": "<div>\n<style scoped>\n    .dataframe tbody tr th:only-of-type {\n        vertical-align: middle;\n    }\n\n    .dataframe tbody tr th {\n        vertical-align: top;\n    }\n\n    .dataframe thead th {\n        text-align: right;\n    }\n</style>\n<table border=\"1\" class=\"dataframe\">\n  <thead>\n    <tr style=\"text-align: right;\">\n      <th></th>\n      <th>Unnamed: 0_x</th>\n      <th>gender</th>\n      <th>dob</th>\n      <th>commune</th>\n      <th>created_at_x</th>\n      <th>modified_at</th>\n      <th>department</th>\n      <th>education_level</th>\n      <th>university</th>\n      <th>study_domain</th>\n      <th>...</th>\n      <th>course_name</th>\n      <th>course_id</th>\n      <th>percentage_completed</th>\n      <th>completed_at</th>\n      <th>expired</th>\n      <th>is_free_trial</th>\n      <th>completed</th>\n      <th>started_at</th>\n      <th>activated_at</th>\n      <th>updated_at</th>\n    </tr>\n  </thead>\n  <tbody>\n    <tr>\n      <th>0</th>\n      <td>0</td>\n      <td>male</td>\n      <td>25/08/1998</td>\n      <td>ht0111</td>\n      <td>2021-02-14T23:03:52.768400Z</td>\n      <td>2021-02-14T23:03:52.768462Z</td>\n      <td>NaN</td>\n      <td>unknown</td>\n      <td>unknown</td>\n      <td>[]</td>\n      <td>...</td>\n      <td>Entwodiksyon Nan Syans Done</td>\n      <td>1047613</td>\n      <td>0.000000</td>\n      <td>NaN</td>\n      <td>False</td>\n      <td>True</td>\n      <td>False</td>\n      <td>2021-02-17T08:43:53.457Z</td>\n      <td>NaN</td>\n      <td>2021-02-17T08:44:09.561Z</td>\n    </tr>\n    <tr>\n      <th>1</th>\n      <td>2</td>\n      <td>male</td>\n      <td>17/05/1996</td>\n      <td>ht0111</td>\n      <td>2021-02-16T16:56:30.579504Z</td>\n      <td>2021-02-16T16:56:30.579563Z</td>\n      <td>ht01</td>\n      <td>Bachelors (bacc +4)</td>\n      <td>Université d'Etat d'Haïti (UEH)</td>\n      <td>[]</td>\n      <td>...</td>\n      <td>Entwodiksyon Nan Syans Done</td>\n      <td>1047613</td>\n      <td>0.325581</td>\n      <td>NaN</td>\n      <td>False</td>\n      <td>False</td>\n      <td>False</td>\n      <td>2021-02-20T21:20:37.814Z</td>\n      <td>2021-03-03T23:00:11.000Z</td>\n      <td>2021-03-09T13:57:49.729Z</td>\n    </tr>\n    <tr>\n      <th>2</th>\n      <td>6</td>\n      <td>female</td>\n      <td>30/04/1988</td>\n      <td>ht0111</td>\n      <td>2021-02-16T20:06:17.885833Z</td>\n      <td>2021-02-16T20:06:17.885862Z</td>\n      <td>ht01</td>\n      <td>Masters</td>\n      <td>Ecole Supérieure d'Infotronique d'Haïti (ESIH)</td>\n      <td>['item1']</td>\n      <td>...</td>\n      <td>Entwodiksyon Nan Syans Done</td>\n      <td>1047613</td>\n      <td>0.452381</td>\n      <td>NaN</td>\n      <td>False</td>\n      <td>False</td>\n      <td>False</td>\n      <td>2021-02-16T20:16:36.279Z</td>\n      <td>2021-02-22T19:16:40.434Z</td>\n      <td>2021-03-03T21:50:17.810Z</td>\n    </tr>\n    <tr>\n      <th>3</th>\n      <td>7</td>\n      <td>female</td>\n      <td>10/09/1996</td>\n      <td>ht0111</td>\n      <td>2021-02-16T22:54:19.490806Z</td>\n      <td>2021-02-16T22:54:19.490841Z</td>\n      <td>ht01</td>\n      <td>Bachelors (bacc +4)</td>\n      <td>Ecole Supérieure d'Infotronique d'Haïti (ESIH)</td>\n      <td>['item1']</td>\n      <td>...</td>\n      <td>Entwodiksyon Nan Syans Done</td>\n      <td>1047613</td>\n      <td>0.488372</td>\n      <td>NaN</td>\n      <td>False</td>\n      <td>False</td>\n      <td>False</td>\n      <td>2021-02-24T16:55:14.134Z</td>\n      <td>2021-02-24T16:53:16.000Z</td>\n      <td>2021-03-10T10:24:48.284Z</td>\n    </tr>\n    <tr>\n      <th>4</th>\n      <td>11</td>\n      <td>female</td>\n      <td>30/12/1994</td>\n      <td>ht0111</td>\n      <td>2021-02-17T04:35:17.193779Z</td>\n      <td>2021-02-17T04:35:17.193835Z</td>\n      <td>ht01</td>\n      <td>Other</td>\n      <td>unknown</td>\n      <td>['item1']</td>\n      <td>...</td>\n      <td>Entwodiksyon Nan Syans Done</td>\n      <td>1047613</td>\n      <td>0.023810</td>\n      <td>NaN</td>\n      <td>False</td>\n      <td>True</td>\n      <td>False</td>\n      <td>2021-02-19T02:33:12.624Z</td>\n      <td>NaN</td>\n      <td>2021-03-03T21:50:19.877Z</td>\n    </tr>\n    <tr>\n      <th>...</th>\n      <td>...</td>\n      <td>...</td>\n      <td>...</td>\n      <td>...</td>\n      <td>...</td>\n      <td>...</td>\n      <td>...</td>\n      <td>...</td>\n      <td>...</td>\n      <td>...</td>\n      <td>...</td>\n      <td>...</td>\n      <td>...</td>\n      <td>...</td>\n      <td>...</td>\n      <td>...</td>\n      <td>...</td>\n      <td>...</td>\n      <td>...</td>\n      <td>...</td>\n      <td>...</td>\n    </tr>\n    <tr>\n      <th>97</th>\n      <td>238</td>\n      <td>male</td>\n      <td>09/08/1991</td>\n      <td>ht0311</td>\n      <td>2021-03-03T00:04:49.909094Z</td>\n      <td>2021-03-03T00:04:49.909160Z</td>\n      <td>ht03</td>\n      <td>Other</td>\n      <td>unknown</td>\n      <td>['item7']</td>\n      <td>...</td>\n      <td>Entwodiksyon Nan Syans Done</td>\n      <td>1047613</td>\n      <td>0.023810</td>\n      <td>NaN</td>\n      <td>False</td>\n      <td>True</td>\n      <td>False</td>\n      <td>2021-03-03T00:12:32.686Z</td>\n      <td>NaN</td>\n      <td>2021-03-03T21:50:29.543Z</td>\n    </tr>\n    <tr>\n      <th>98</th>\n      <td>245</td>\n      <td>male</td>\n      <td>15/02/1994</td>\n      <td>ht0621</td>\n      <td>2021-03-02T18:39:19.873194Z</td>\n      <td>2021-03-02T18:39:19.873237Z</td>\n      <td>ht06</td>\n      <td>Bachelors (bacc +4)</td>\n      <td>other</td>\n      <td>['other']</td>\n      <td>...</td>\n      <td>Entwodiksyon Nan Syans Done</td>\n      <td>1047613</td>\n      <td>0.883721</td>\n      <td>NaN</td>\n      <td>False</td>\n      <td>False</td>\n      <td>False</td>\n      <td>2021-03-02T18:45:27.034Z</td>\n      <td>2021-03-02T18:53:20.000Z</td>\n      <td>2021-03-13T05:43:58.022Z</td>\n    </tr>\n    <tr>\n      <th>99</th>\n      <td>247</td>\n      <td>male</td>\n      <td>28/12/1993</td>\n      <td>ht0621</td>\n      <td>2021-03-14T15:29:32.474015Z</td>\n      <td>2021-03-14T15:29:32.474055Z</td>\n      <td>ht06</td>\n      <td>Bachelors (bacc +4)</td>\n      <td>Centre de Techniques de Planification et d'Eco...</td>\n      <td>['item2']</td>\n      <td>...</td>\n      <td>Entwodiksyon Nan Syans Done</td>\n      <td>1047613</td>\n      <td>0.325581</td>\n      <td>NaN</td>\n      <td>False</td>\n      <td>False</td>\n      <td>False</td>\n      <td>2021-03-14T15:34:56.007Z</td>\n      <td>2021-03-14T15:34:39.768Z</td>\n      <td>2021-03-14T17:30:53.379Z</td>\n    </tr>\n    <tr>\n      <th>100</th>\n      <td>248</td>\n      <td>male</td>\n      <td>17/04/1992</td>\n      <td>ht0412</td>\n      <td>2021-03-08T16:35:07.806100Z</td>\n      <td>2021-03-08T16:35:07.806161Z</td>\n      <td>ht04</td>\n      <td>Bachelors (bacc +4)</td>\n      <td>other</td>\n      <td>['item1']</td>\n      <td>...</td>\n      <td>Entwodiksyon Nan Syans Done</td>\n      <td>1047613</td>\n      <td>0.418605</td>\n      <td>NaN</td>\n      <td>False</td>\n      <td>False</td>\n      <td>False</td>\n      <td>2021-03-08T19:10:36.694Z</td>\n      <td>2021-03-08T19:06:32.000Z</td>\n      <td>2021-03-14T16:28:07.992Z</td>\n    </tr>\n    <tr>\n      <th>101</th>\n      <td>249</td>\n      <td>male</td>\n      <td>22/07/1993</td>\n      <td>ht1012</td>\n      <td>2021-03-10T21:41:05.708748Z</td>\n      <td>2021-03-10T21:41:05.708787Z</td>\n      <td>ht10</td>\n      <td>Masters</td>\n      <td>other</td>\n      <td>['other']</td>\n      <td>...</td>\n      <td>Entwodiksyon Nan Syans Done</td>\n      <td>1047613</td>\n      <td>0.279070</td>\n      <td>NaN</td>\n      <td>False</td>\n      <td>False</td>\n      <td>False</td>\n      <td>2021-03-14T02:18:52.472Z</td>\n      <td>2021-03-14T02:16:08.000Z</td>\n      <td>2021-03-14T03:32:18.768Z</td>\n    </tr>\n  </tbody>\n</table>\n<p>102 rows × 31 columns</p>\n</div>"
     },
     "metadata": {},
     "execution_count": 47
    }
   ],
   "source": [
    "questEnroll"
   ]
  },
  {
   "cell_type": "code",
   "execution_count": 48,
   "metadata": {},
   "outputs": [
    {
     "output_type": "execute_result",
     "data": {
      "text/plain": [
       "(807, 4)"
      ]
     },
     "metadata": {},
     "execution_count": 48
    }
   ],
   "source": [
    "industry.shape"
   ]
  },
  {
   "cell_type": "code",
   "execution_count": 49,
   "metadata": {},
   "outputs": [],
   "source": [
    "industry = pd.get_dummies(data=industry[['key' ,'quest_id','values']], columns=[\"values\"], prefix='',prefix_sep='')"
   ]
  },
  {
   "cell_type": "code",
   "execution_count": 50,
   "metadata": {},
   "outputs": [
    {
     "output_type": "execute_result",
     "data": {
      "text/plain": [
       "246"
      ]
     },
     "metadata": {},
     "execution_count": 50
    }
   ],
   "source": [
    "industry.quest_id.nunique()"
   ]
  },
  {
   "cell_type": "code",
   "execution_count": 51,
   "metadata": {},
   "outputs": [],
   "source": [
    "industry=industry.groupby('quest_id').sum()"
   ]
  },
  {
   "cell_type": "code",
   "execution_count": 52,
   "metadata": {},
   "outputs": [
    {
     "output_type": "execute_result",
     "data": {
      "text/plain": [
       "                                      Communications  Consulting  Education  \\\n",
       "quest_id                                                                      \n",
       "905ddcf2-ce95-11eb-9a92-7c67a234f601               0           0          0   \n",
       "905e2608-ce95-11eb-809f-7c67a234f601               0           1          1   \n",
       "905e4cf5-ce95-11eb-96a9-7c67a234f601               0           1          1   \n",
       "905e73fd-ce95-11eb-a7b0-7c67a234f601               0           0          0   \n",
       "905e9b27-ce95-11eb-9c37-7c67a234f601               1           0          1   \n",
       "...                                              ...         ...        ...   \n",
       "906b3c84-ce95-11eb-8c2a-7c67a234f601               1           0          1   \n",
       "906b3c85-ce95-11eb-9b87-7c67a234f601               1           0          1   \n",
       "906b3c86-ce95-11eb-b6a7-7c67a234f601               0           1          0   \n",
       "906b65e2-ce95-11eb-8b5c-7c67a234f601               0           0          0   \n",
       "906b65e3-ce95-11eb-a294-7c67a234f601               0           1          1   \n",
       "\n",
       "                                      Energy  Finance  Healthcare  Insurance  \\\n",
       "quest_id                                                                       \n",
       "905ddcf2-ce95-11eb-9a92-7c67a234f601       0        1           0          0   \n",
       "905e2608-ce95-11eb-809f-7c67a234f601       1        0           0          0   \n",
       "905e4cf5-ce95-11eb-96a9-7c67a234f601       0        0           0          0   \n",
       "905e73fd-ce95-11eb-a7b0-7c67a234f601       0        1           0          0   \n",
       "905e9b27-ce95-11eb-9c37-7c67a234f601       0        0           0          0   \n",
       "...                                      ...      ...         ...        ...   \n",
       "906b3c84-ce95-11eb-8c2a-7c67a234f601       0        0           0          0   \n",
       "906b3c85-ce95-11eb-9b87-7c67a234f601       0        0           1          0   \n",
       "906b3c86-ce95-11eb-b6a7-7c67a234f601       0        0           1          0   \n",
       "906b65e2-ce95-11eb-8b5c-7c67a234f601       0        0           0          0   \n",
       "906b65e3-ce95-11eb-a294-7c67a234f601       0        0           0          0   \n",
       "\n",
       "                                      Manufacturing  Marketing  \\\n",
       "quest_id                                                         \n",
       "905ddcf2-ce95-11eb-9a92-7c67a234f601              0          0   \n",
       "905e2608-ce95-11eb-809f-7c67a234f601              0          1   \n",
       "905e4cf5-ce95-11eb-96a9-7c67a234f601              0          1   \n",
       "905e73fd-ce95-11eb-a7b0-7c67a234f601              0          0   \n",
       "905e9b27-ce95-11eb-9c37-7c67a234f601              0          0   \n",
       "...                                             ...        ...   \n",
       "906b3c84-ce95-11eb-8c2a-7c67a234f601              0          1   \n",
       "906b3c85-ce95-11eb-9b87-7c67a234f601              0          0   \n",
       "906b3c86-ce95-11eb-b6a7-7c67a234f601              0          0   \n",
       "906b65e2-ce95-11eb-8b5c-7c67a234f601              0          0   \n",
       "906b65e3-ce95-11eb-a294-7c67a234f601              0          0   \n",
       "\n",
       "                                      Public Sector/ Non-Profit Agencies  \\\n",
       "quest_id                                                                   \n",
       "905ddcf2-ce95-11eb-9a92-7c67a234f601                                   0   \n",
       "905e2608-ce95-11eb-809f-7c67a234f601                                   0   \n",
       "905e4cf5-ce95-11eb-96a9-7c67a234f601                                   0   \n",
       "905e73fd-ce95-11eb-a7b0-7c67a234f601                                   0   \n",
       "905e9b27-ce95-11eb-9c37-7c67a234f601                                   1   \n",
       "...                                                                  ...   \n",
       "906b3c84-ce95-11eb-8c2a-7c67a234f601                                   1   \n",
       "906b3c85-ce95-11eb-9b87-7c67a234f601                                   0   \n",
       "906b3c86-ce95-11eb-b6a7-7c67a234f601                                   1   \n",
       "906b65e2-ce95-11eb-8b5c-7c67a234f601                                   0   \n",
       "906b65e3-ce95-11eb-a294-7c67a234f601                                   1   \n",
       "\n",
       "                                      Retail/ E-Commerce  \\\n",
       "quest_id                                                   \n",
       "905ddcf2-ce95-11eb-9a92-7c67a234f601                   0   \n",
       "905e2608-ce95-11eb-809f-7c67a234f601                   0   \n",
       "905e4cf5-ce95-11eb-96a9-7c67a234f601                   1   \n",
       "905e73fd-ce95-11eb-a7b0-7c67a234f601                   0   \n",
       "905e9b27-ce95-11eb-9c37-7c67a234f601                   1   \n",
       "...                                                  ...   \n",
       "906b3c84-ce95-11eb-8c2a-7c67a234f601                   1   \n",
       "906b3c85-ce95-11eb-9b87-7c67a234f601                   1   \n",
       "906b3c86-ce95-11eb-b6a7-7c67a234f601                   0   \n",
       "906b65e2-ce95-11eb-8b5c-7c67a234f601                   0   \n",
       "906b65e3-ce95-11eb-a294-7c67a234f601                   0   \n",
       "\n",
       "                                      Technology (Software/ Internet)  \\\n",
       "quest_id                                                                \n",
       "905ddcf2-ce95-11eb-9a92-7c67a234f601                                0   \n",
       "905e2608-ce95-11eb-809f-7c67a234f601                                1   \n",
       "905e4cf5-ce95-11eb-96a9-7c67a234f601                                1   \n",
       "905e73fd-ce95-11eb-a7b0-7c67a234f601                                1   \n",
       "905e9b27-ce95-11eb-9c37-7c67a234f601                                1   \n",
       "...                                                               ...   \n",
       "906b3c84-ce95-11eb-8c2a-7c67a234f601                                0   \n",
       "906b3c85-ce95-11eb-9b87-7c67a234f601                                1   \n",
       "906b3c86-ce95-11eb-b6a7-7c67a234f601                                1   \n",
       "906b65e2-ce95-11eb-8b5c-7c67a234f601                                1   \n",
       "906b65e3-ce95-11eb-a294-7c67a234f601                                0   \n",
       "\n",
       "                                      Transportation  other  \n",
       "quest_id                                                     \n",
       "905ddcf2-ce95-11eb-9a92-7c67a234f601               0      0  \n",
       "905e2608-ce95-11eb-809f-7c67a234f601               0      0  \n",
       "905e4cf5-ce95-11eb-96a9-7c67a234f601               0      0  \n",
       "905e73fd-ce95-11eb-a7b0-7c67a234f601               0      0  \n",
       "905e9b27-ce95-11eb-9c37-7c67a234f601               0      0  \n",
       "...                                              ...    ...  \n",
       "906b3c84-ce95-11eb-8c2a-7c67a234f601               0      0  \n",
       "906b3c85-ce95-11eb-9b87-7c67a234f601               0      0  \n",
       "906b3c86-ce95-11eb-b6a7-7c67a234f601               0      0  \n",
       "906b65e2-ce95-11eb-8b5c-7c67a234f601               0      0  \n",
       "906b65e3-ce95-11eb-a294-7c67a234f601               0      0  \n",
       "\n",
       "[246 rows x 14 columns]"
      ],
      "text/html": "<div>\n<style scoped>\n    .dataframe tbody tr th:only-of-type {\n        vertical-align: middle;\n    }\n\n    .dataframe tbody tr th {\n        vertical-align: top;\n    }\n\n    .dataframe thead th {\n        text-align: right;\n    }\n</style>\n<table border=\"1\" class=\"dataframe\">\n  <thead>\n    <tr style=\"text-align: right;\">\n      <th></th>\n      <th>Communications</th>\n      <th>Consulting</th>\n      <th>Education</th>\n      <th>Energy</th>\n      <th>Finance</th>\n      <th>Healthcare</th>\n      <th>Insurance</th>\n      <th>Manufacturing</th>\n      <th>Marketing</th>\n      <th>Public Sector/ Non-Profit Agencies</th>\n      <th>Retail/ E-Commerce</th>\n      <th>Technology (Software/ Internet)</th>\n      <th>Transportation</th>\n      <th>other</th>\n    </tr>\n    <tr>\n      <th>quest_id</th>\n      <th></th>\n      <th></th>\n      <th></th>\n      <th></th>\n      <th></th>\n      <th></th>\n      <th></th>\n      <th></th>\n      <th></th>\n      <th></th>\n      <th></th>\n      <th></th>\n      <th></th>\n      <th></th>\n    </tr>\n  </thead>\n  <tbody>\n    <tr>\n      <th>905ddcf2-ce95-11eb-9a92-7c67a234f601</th>\n      <td>0</td>\n      <td>0</td>\n      <td>0</td>\n      <td>0</td>\n      <td>1</td>\n      <td>0</td>\n      <td>0</td>\n      <td>0</td>\n      <td>0</td>\n      <td>0</td>\n      <td>0</td>\n      <td>0</td>\n      <td>0</td>\n      <td>0</td>\n    </tr>\n    <tr>\n      <th>905e2608-ce95-11eb-809f-7c67a234f601</th>\n      <td>0</td>\n      <td>1</td>\n      <td>1</td>\n      <td>1</td>\n      <td>0</td>\n      <td>0</td>\n      <td>0</td>\n      <td>0</td>\n      <td>1</td>\n      <td>0</td>\n      <td>0</td>\n      <td>1</td>\n      <td>0</td>\n      <td>0</td>\n    </tr>\n    <tr>\n      <th>905e4cf5-ce95-11eb-96a9-7c67a234f601</th>\n      <td>0</td>\n      <td>1</td>\n      <td>1</td>\n      <td>0</td>\n      <td>0</td>\n      <td>0</td>\n      <td>0</td>\n      <td>0</td>\n      <td>1</td>\n      <td>0</td>\n      <td>1</td>\n      <td>1</td>\n      <td>0</td>\n      <td>0</td>\n    </tr>\n    <tr>\n      <th>905e73fd-ce95-11eb-a7b0-7c67a234f601</th>\n      <td>0</td>\n      <td>0</td>\n      <td>0</td>\n      <td>0</td>\n      <td>1</td>\n      <td>0</td>\n      <td>0</td>\n      <td>0</td>\n      <td>0</td>\n      <td>0</td>\n      <td>0</td>\n      <td>1</td>\n      <td>0</td>\n      <td>0</td>\n    </tr>\n    <tr>\n      <th>905e9b27-ce95-11eb-9c37-7c67a234f601</th>\n      <td>1</td>\n      <td>0</td>\n      <td>1</td>\n      <td>0</td>\n      <td>0</td>\n      <td>0</td>\n      <td>0</td>\n      <td>0</td>\n      <td>0</td>\n      <td>1</td>\n      <td>1</td>\n      <td>1</td>\n      <td>0</td>\n      <td>0</td>\n    </tr>\n    <tr>\n      <th>...</th>\n      <td>...</td>\n      <td>...</td>\n      <td>...</td>\n      <td>...</td>\n      <td>...</td>\n      <td>...</td>\n      <td>...</td>\n      <td>...</td>\n      <td>...</td>\n      <td>...</td>\n      <td>...</td>\n      <td>...</td>\n      <td>...</td>\n      <td>...</td>\n    </tr>\n    <tr>\n      <th>906b3c84-ce95-11eb-8c2a-7c67a234f601</th>\n      <td>1</td>\n      <td>0</td>\n      <td>1</td>\n      <td>0</td>\n      <td>0</td>\n      <td>0</td>\n      <td>0</td>\n      <td>0</td>\n      <td>1</td>\n      <td>1</td>\n      <td>1</td>\n      <td>0</td>\n      <td>0</td>\n      <td>0</td>\n    </tr>\n    <tr>\n      <th>906b3c85-ce95-11eb-9b87-7c67a234f601</th>\n      <td>1</td>\n      <td>0</td>\n      <td>1</td>\n      <td>0</td>\n      <td>0</td>\n      <td>1</td>\n      <td>0</td>\n      <td>0</td>\n      <td>0</td>\n      <td>0</td>\n      <td>1</td>\n      <td>1</td>\n      <td>0</td>\n      <td>0</td>\n    </tr>\n    <tr>\n      <th>906b3c86-ce95-11eb-b6a7-7c67a234f601</th>\n      <td>0</td>\n      <td>1</td>\n      <td>0</td>\n      <td>0</td>\n      <td>0</td>\n      <td>1</td>\n      <td>0</td>\n      <td>0</td>\n      <td>0</td>\n      <td>1</td>\n      <td>0</td>\n      <td>1</td>\n      <td>0</td>\n      <td>0</td>\n    </tr>\n    <tr>\n      <th>906b65e2-ce95-11eb-8b5c-7c67a234f601</th>\n      <td>0</td>\n      <td>0</td>\n      <td>0</td>\n      <td>0</td>\n      <td>0</td>\n      <td>0</td>\n      <td>0</td>\n      <td>0</td>\n      <td>0</td>\n      <td>0</td>\n      <td>0</td>\n      <td>1</td>\n      <td>0</td>\n      <td>0</td>\n    </tr>\n    <tr>\n      <th>906b65e3-ce95-11eb-a294-7c67a234f601</th>\n      <td>0</td>\n      <td>1</td>\n      <td>1</td>\n      <td>0</td>\n      <td>0</td>\n      <td>0</td>\n      <td>0</td>\n      <td>0</td>\n      <td>0</td>\n      <td>1</td>\n      <td>0</td>\n      <td>0</td>\n      <td>0</td>\n      <td>0</td>\n    </tr>\n  </tbody>\n</table>\n<p>246 rows × 14 columns</p>\n</div>"
     },
     "metadata": {},
     "execution_count": 52
    }
   ],
   "source": [
    "industry"
   ]
  },
  {
   "cell_type": "code",
   "execution_count": 54,
   "metadata": {},
   "outputs": [
    {
     "output_type": "execute_result",
     "data": {
      "text/plain": [
       "(287, 4)"
      ]
     },
     "metadata": {},
     "execution_count": 54
    }
   ],
   "source": [
    "\n",
    "study_domain.shape"
   ]
  },
  {
   "cell_type": "code",
   "execution_count": 55,
   "metadata": {},
   "outputs": [],
   "source": [
    "study_domain =pd.get_dummies(data=study_domain[['key','quest_id','values']],columns=['values'], prefix='',prefix_sep='')"
   ]
  },
  {
   "cell_type": "code",
   "execution_count": 56,
   "metadata": {},
   "outputs": [
    {
     "output_type": "execute_result",
     "data": {
      "text/plain": [
       "244"
      ]
     },
     "metadata": {},
     "execution_count": 56
    }
   ],
   "source": [
    "study_domain.quest_id.nunique()"
   ]
  },
  {
   "cell_type": "code",
   "execution_count": 62,
   "metadata": {},
   "outputs": [],
   "source": [
    "study_domain=study_domain.groupby('quest_id').sum()"
   ]
  },
  {
   "cell_type": "code",
   "execution_count": 63,
   "metadata": {},
   "outputs": [
    {
     "output_type": "execute_result",
     "data": {
      "text/plain": [
       "                                      Communications  Consulting  Education  \\\n",
       "quest_id                                                                      \n",
       "905ddcf2-ce95-11eb-9a92-7c67a234f601               0           0          0   \n",
       "905e2608-ce95-11eb-809f-7c67a234f601               0           1          1   \n",
       "905e4cf5-ce95-11eb-96a9-7c67a234f601               0           1          1   \n",
       "905e73fd-ce95-11eb-a7b0-7c67a234f601               0           0          0   \n",
       "905e9b27-ce95-11eb-9c37-7c67a234f601               1           0          1   \n",
       "...                                              ...         ...        ...   \n",
       "906b3c84-ce95-11eb-8c2a-7c67a234f601               1           0          1   \n",
       "906b3c85-ce95-11eb-9b87-7c67a234f601               1           0          1   \n",
       "906b3c86-ce95-11eb-b6a7-7c67a234f601               0           1          0   \n",
       "906b65e2-ce95-11eb-8b5c-7c67a234f601               0           0          0   \n",
       "906b65e3-ce95-11eb-a294-7c67a234f601               0           1          1   \n",
       "\n",
       "                                      Energy  Finance  Healthcare  Insurance  \\\n",
       "quest_id                                                                       \n",
       "905ddcf2-ce95-11eb-9a92-7c67a234f601       0        1           0          0   \n",
       "905e2608-ce95-11eb-809f-7c67a234f601       1        0           0          0   \n",
       "905e4cf5-ce95-11eb-96a9-7c67a234f601       0        0           0          0   \n",
       "905e73fd-ce95-11eb-a7b0-7c67a234f601       0        1           0          0   \n",
       "905e9b27-ce95-11eb-9c37-7c67a234f601       0        0           0          0   \n",
       "...                                      ...      ...         ...        ...   \n",
       "906b3c84-ce95-11eb-8c2a-7c67a234f601       0        0           0          0   \n",
       "906b3c85-ce95-11eb-9b87-7c67a234f601       0        0           1          0   \n",
       "906b3c86-ce95-11eb-b6a7-7c67a234f601       0        0           1          0   \n",
       "906b65e2-ce95-11eb-8b5c-7c67a234f601       0        0           0          0   \n",
       "906b65e3-ce95-11eb-a294-7c67a234f601       0        0           0          0   \n",
       "\n",
       "                                      Manufacturing  Marketing  \\\n",
       "quest_id                                                         \n",
       "905ddcf2-ce95-11eb-9a92-7c67a234f601              0          0   \n",
       "905e2608-ce95-11eb-809f-7c67a234f601              0          1   \n",
       "905e4cf5-ce95-11eb-96a9-7c67a234f601              0          1   \n",
       "905e73fd-ce95-11eb-a7b0-7c67a234f601              0          0   \n",
       "905e9b27-ce95-11eb-9c37-7c67a234f601              0          0   \n",
       "...                                             ...        ...   \n",
       "906b3c84-ce95-11eb-8c2a-7c67a234f601              0          1   \n",
       "906b3c85-ce95-11eb-9b87-7c67a234f601              0          0   \n",
       "906b3c86-ce95-11eb-b6a7-7c67a234f601              0          0   \n",
       "906b65e2-ce95-11eb-8b5c-7c67a234f601              0          0   \n",
       "906b65e3-ce95-11eb-a294-7c67a234f601              0          0   \n",
       "\n",
       "                                      Public Sector/ Non-Profit Agencies  \\\n",
       "quest_id                                                                   \n",
       "905ddcf2-ce95-11eb-9a92-7c67a234f601                                   0   \n",
       "905e2608-ce95-11eb-809f-7c67a234f601                                   0   \n",
       "905e4cf5-ce95-11eb-96a9-7c67a234f601                                   0   \n",
       "905e73fd-ce95-11eb-a7b0-7c67a234f601                                   0   \n",
       "905e9b27-ce95-11eb-9c37-7c67a234f601                                   1   \n",
       "...                                                                  ...   \n",
       "906b3c84-ce95-11eb-8c2a-7c67a234f601                                   1   \n",
       "906b3c85-ce95-11eb-9b87-7c67a234f601                                   0   \n",
       "906b3c86-ce95-11eb-b6a7-7c67a234f601                                   1   \n",
       "906b65e2-ce95-11eb-8b5c-7c67a234f601                                   0   \n",
       "906b65e3-ce95-11eb-a294-7c67a234f601                                   1   \n",
       "\n",
       "                                      Retail/ E-Commerce  \\\n",
       "quest_id                                                   \n",
       "905ddcf2-ce95-11eb-9a92-7c67a234f601                   0   \n",
       "905e2608-ce95-11eb-809f-7c67a234f601                   0   \n",
       "905e4cf5-ce95-11eb-96a9-7c67a234f601                   1   \n",
       "905e73fd-ce95-11eb-a7b0-7c67a234f601                   0   \n",
       "905e9b27-ce95-11eb-9c37-7c67a234f601                   1   \n",
       "...                                                  ...   \n",
       "906b3c84-ce95-11eb-8c2a-7c67a234f601                   1   \n",
       "906b3c85-ce95-11eb-9b87-7c67a234f601                   1   \n",
       "906b3c86-ce95-11eb-b6a7-7c67a234f601                   0   \n",
       "906b65e2-ce95-11eb-8b5c-7c67a234f601                   0   \n",
       "906b65e3-ce95-11eb-a294-7c67a234f601                   0   \n",
       "\n",
       "                                      Technology (Software/ Internet)  \\\n",
       "quest_id                                                                \n",
       "905ddcf2-ce95-11eb-9a92-7c67a234f601                                0   \n",
       "905e2608-ce95-11eb-809f-7c67a234f601                                1   \n",
       "905e4cf5-ce95-11eb-96a9-7c67a234f601                                1   \n",
       "905e73fd-ce95-11eb-a7b0-7c67a234f601                                1   \n",
       "905e9b27-ce95-11eb-9c37-7c67a234f601                                1   \n",
       "...                                                               ...   \n",
       "906b3c84-ce95-11eb-8c2a-7c67a234f601                                0   \n",
       "906b3c85-ce95-11eb-9b87-7c67a234f601                                1   \n",
       "906b3c86-ce95-11eb-b6a7-7c67a234f601                                1   \n",
       "906b65e2-ce95-11eb-8b5c-7c67a234f601                                1   \n",
       "906b65e3-ce95-11eb-a294-7c67a234f601                                0   \n",
       "\n",
       "                                      Transportation  other  \n",
       "quest_id                                                     \n",
       "905ddcf2-ce95-11eb-9a92-7c67a234f601               0      0  \n",
       "905e2608-ce95-11eb-809f-7c67a234f601               0      0  \n",
       "905e4cf5-ce95-11eb-96a9-7c67a234f601               0      0  \n",
       "905e73fd-ce95-11eb-a7b0-7c67a234f601               0      0  \n",
       "905e9b27-ce95-11eb-9c37-7c67a234f601               0      0  \n",
       "...                                              ...    ...  \n",
       "906b3c84-ce95-11eb-8c2a-7c67a234f601               0      0  \n",
       "906b3c85-ce95-11eb-9b87-7c67a234f601               0      0  \n",
       "906b3c86-ce95-11eb-b6a7-7c67a234f601               0      0  \n",
       "906b65e2-ce95-11eb-8b5c-7c67a234f601               0      0  \n",
       "906b65e3-ce95-11eb-a294-7c67a234f601               0      0  \n",
       "\n",
       "[246 rows x 14 columns]"
      ],
      "text/html": "<div>\n<style scoped>\n    .dataframe tbody tr th:only-of-type {\n        vertical-align: middle;\n    }\n\n    .dataframe tbody tr th {\n        vertical-align: top;\n    }\n\n    .dataframe thead th {\n        text-align: right;\n    }\n</style>\n<table border=\"1\" class=\"dataframe\">\n  <thead>\n    <tr style=\"text-align: right;\">\n      <th></th>\n      <th>Communications</th>\n      <th>Consulting</th>\n      <th>Education</th>\n      <th>Energy</th>\n      <th>Finance</th>\n      <th>Healthcare</th>\n      <th>Insurance</th>\n      <th>Manufacturing</th>\n      <th>Marketing</th>\n      <th>Public Sector/ Non-Profit Agencies</th>\n      <th>Retail/ E-Commerce</th>\n      <th>Technology (Software/ Internet)</th>\n      <th>Transportation</th>\n      <th>other</th>\n    </tr>\n    <tr>\n      <th>quest_id</th>\n      <th></th>\n      <th></th>\n      <th></th>\n      <th></th>\n      <th></th>\n      <th></th>\n      <th></th>\n      <th></th>\n      <th></th>\n      <th></th>\n      <th></th>\n      <th></th>\n      <th></th>\n      <th></th>\n    </tr>\n  </thead>\n  <tbody>\n    <tr>\n      <th>905ddcf2-ce95-11eb-9a92-7c67a234f601</th>\n      <td>0</td>\n      <td>0</td>\n      <td>0</td>\n      <td>0</td>\n      <td>1</td>\n      <td>0</td>\n      <td>0</td>\n      <td>0</td>\n      <td>0</td>\n      <td>0</td>\n      <td>0</td>\n      <td>0</td>\n      <td>0</td>\n      <td>0</td>\n    </tr>\n    <tr>\n      <th>905e2608-ce95-11eb-809f-7c67a234f601</th>\n      <td>0</td>\n      <td>1</td>\n      <td>1</td>\n      <td>1</td>\n      <td>0</td>\n      <td>0</td>\n      <td>0</td>\n      <td>0</td>\n      <td>1</td>\n      <td>0</td>\n      <td>0</td>\n      <td>1</td>\n      <td>0</td>\n      <td>0</td>\n    </tr>\n    <tr>\n      <th>905e4cf5-ce95-11eb-96a9-7c67a234f601</th>\n      <td>0</td>\n      <td>1</td>\n      <td>1</td>\n      <td>0</td>\n      <td>0</td>\n      <td>0</td>\n      <td>0</td>\n      <td>0</td>\n      <td>1</td>\n      <td>0</td>\n      <td>1</td>\n      <td>1</td>\n      <td>0</td>\n      <td>0</td>\n    </tr>\n    <tr>\n      <th>905e73fd-ce95-11eb-a7b0-7c67a234f601</th>\n      <td>0</td>\n      <td>0</td>\n      <td>0</td>\n      <td>0</td>\n      <td>1</td>\n      <td>0</td>\n      <td>0</td>\n      <td>0</td>\n      <td>0</td>\n      <td>0</td>\n      <td>0</td>\n      <td>1</td>\n      <td>0</td>\n      <td>0</td>\n    </tr>\n    <tr>\n      <th>905e9b27-ce95-11eb-9c37-7c67a234f601</th>\n      <td>1</td>\n      <td>0</td>\n      <td>1</td>\n      <td>0</td>\n      <td>0</td>\n      <td>0</td>\n      <td>0</td>\n      <td>0</td>\n      <td>0</td>\n      <td>1</td>\n      <td>1</td>\n      <td>1</td>\n      <td>0</td>\n      <td>0</td>\n    </tr>\n    <tr>\n      <th>...</th>\n      <td>...</td>\n      <td>...</td>\n      <td>...</td>\n      <td>...</td>\n      <td>...</td>\n      <td>...</td>\n      <td>...</td>\n      <td>...</td>\n      <td>...</td>\n      <td>...</td>\n      <td>...</td>\n      <td>...</td>\n      <td>...</td>\n      <td>...</td>\n    </tr>\n    <tr>\n      <th>906b3c84-ce95-11eb-8c2a-7c67a234f601</th>\n      <td>1</td>\n      <td>0</td>\n      <td>1</td>\n      <td>0</td>\n      <td>0</td>\n      <td>0</td>\n      <td>0</td>\n      <td>0</td>\n      <td>1</td>\n      <td>1</td>\n      <td>1</td>\n      <td>0</td>\n      <td>0</td>\n      <td>0</td>\n    </tr>\n    <tr>\n      <th>906b3c85-ce95-11eb-9b87-7c67a234f601</th>\n      <td>1</td>\n      <td>0</td>\n      <td>1</td>\n      <td>0</td>\n      <td>0</td>\n      <td>1</td>\n      <td>0</td>\n      <td>0</td>\n      <td>0</td>\n      <td>0</td>\n      <td>1</td>\n      <td>1</td>\n      <td>0</td>\n      <td>0</td>\n    </tr>\n    <tr>\n      <th>906b3c86-ce95-11eb-b6a7-7c67a234f601</th>\n      <td>0</td>\n      <td>1</td>\n      <td>0</td>\n      <td>0</td>\n      <td>0</td>\n      <td>1</td>\n      <td>0</td>\n      <td>0</td>\n      <td>0</td>\n      <td>1</td>\n      <td>0</td>\n      <td>1</td>\n      <td>0</td>\n      <td>0</td>\n    </tr>\n    <tr>\n      <th>906b65e2-ce95-11eb-8b5c-7c67a234f601</th>\n      <td>0</td>\n      <td>0</td>\n      <td>0</td>\n      <td>0</td>\n      <td>0</td>\n      <td>0</td>\n      <td>0</td>\n      <td>0</td>\n      <td>0</td>\n      <td>0</td>\n      <td>0</td>\n      <td>1</td>\n      <td>0</td>\n      <td>0</td>\n    </tr>\n    <tr>\n      <th>906b65e3-ce95-11eb-a294-7c67a234f601</th>\n      <td>0</td>\n      <td>1</td>\n      <td>1</td>\n      <td>0</td>\n      <td>0</td>\n      <td>0</td>\n      <td>0</td>\n      <td>0</td>\n      <td>0</td>\n      <td>1</td>\n      <td>0</td>\n      <td>0</td>\n      <td>0</td>\n      <td>0</td>\n    </tr>\n  </tbody>\n</table>\n<p>246 rows × 14 columns</p>\n</div>"
     },
     "metadata": {},
     "execution_count": 63
    }
   ],
   "source": [
    "study_domain"
   ]
  },
  {
   "cell_type": "code",
   "execution_count": 59,
   "metadata": {},
   "outputs": [
    {
     "output_type": "execute_result",
     "data": {
      "text/plain": [
       "(678, 4)"
      ]
     },
     "metadata": {},
     "execution_count": 59
    }
   ],
   "source": [
    "technology.shape"
   ]
  },
  {
   "cell_type": "code",
   "execution_count": 60,
   "metadata": {},
   "outputs": [],
   "source": [
    "technology= pd.get_dummies(data=technology[['key','quest_id','values']],columns=['values'],prefix='',prefix_sep='')"
   ]
  },
  {
   "cell_type": "code",
   "execution_count": 61,
   "metadata": {},
   "outputs": [
    {
     "output_type": "execute_result",
     "data": {
      "text/plain": [
       "244"
      ]
     },
     "metadata": {},
     "execution_count": 61
    }
   ],
   "source": [
    "technology.quest_id.nunique()"
   ]
  },
  {
   "cell_type": "code",
   "execution_count": 65,
   "metadata": {},
   "outputs": [],
   "source": [
    "technology=technology.groupby('quest_id').sum()"
   ]
  },
  {
   "cell_type": "code",
   "execution_count": 66,
   "metadata": {},
   "outputs": [
    {
     "output_type": "execute_result",
     "data": {
      "text/plain": [
       "                                      Bash  Excel  Git  Java  JavaScript  PHP  \\\n",
       "quest_id                                                                        \n",
       "905ddcf2-ce95-11eb-9a92-7c67a234f601     0      1    0     0           0    0   \n",
       "905e2608-ce95-11eb-809f-7c67a234f601     1      1    1     1           1    0   \n",
       "905e4cf5-ce95-11eb-96a9-7c67a234f601     0      1    0     1           1    1   \n",
       "905e73fd-ce95-11eb-a7b0-7c67a234f601     1      0    0     0           0    1   \n",
       "905e9b27-ce95-11eb-9c37-7c67a234f601     0      1    0     1           1    0   \n",
       "...                                    ...    ...  ...   ...         ...  ...   \n",
       "906b3c84-ce95-11eb-8c2a-7c67a234f601     0      1    0     0           0    0   \n",
       "906b3c85-ce95-11eb-9b87-7c67a234f601     1      1    1     0           1    0   \n",
       "906b3c86-ce95-11eb-b6a7-7c67a234f601     0      1    0     0           0    0   \n",
       "906b65e2-ce95-11eb-8b5c-7c67a234f601     0      0    0     0           0    0   \n",
       "906b65e3-ce95-11eb-a294-7c67a234f601     0      1    0     0           0    0   \n",
       "\n",
       "                                      PowerBI or Tableau  Python  R  SQL  VBA  \\\n",
       "quest_id                                                                        \n",
       "905ddcf2-ce95-11eb-9a92-7c67a234f601                   0       0  1    0    0   \n",
       "905e2608-ce95-11eb-809f-7c67a234f601                   0       1  0    1    0   \n",
       "905e4cf5-ce95-11eb-96a9-7c67a234f601                   0       1  0    0    0   \n",
       "905e73fd-ce95-11eb-a7b0-7c67a234f601                   0       0  0    0    0   \n",
       "905e9b27-ce95-11eb-9c37-7c67a234f601                   0       1  0    1    0   \n",
       "...                                                  ...     ... ..  ...  ...   \n",
       "906b3c84-ce95-11eb-8c2a-7c67a234f601                   0       0  0    0    0   \n",
       "906b3c85-ce95-11eb-9b87-7c67a234f601                   1       0  0    0    0   \n",
       "906b3c86-ce95-11eb-b6a7-7c67a234f601                   1       1  0    1    0   \n",
       "906b65e2-ce95-11eb-8b5c-7c67a234f601                   0       0  0    1    0   \n",
       "906b65e3-ce95-11eb-a294-7c67a234f601                   0       0  1    0    0   \n",
       "\n",
       "                                      other  \n",
       "quest_id                                     \n",
       "905ddcf2-ce95-11eb-9a92-7c67a234f601      0  \n",
       "905e2608-ce95-11eb-809f-7c67a234f601      0  \n",
       "905e4cf5-ce95-11eb-96a9-7c67a234f601      0  \n",
       "905e73fd-ce95-11eb-a7b0-7c67a234f601      0  \n",
       "905e9b27-ce95-11eb-9c37-7c67a234f601      0  \n",
       "...                                     ...  \n",
       "906b3c84-ce95-11eb-8c2a-7c67a234f601      0  \n",
       "906b3c85-ce95-11eb-9b87-7c67a234f601      0  \n",
       "906b3c86-ce95-11eb-b6a7-7c67a234f601      0  \n",
       "906b65e2-ce95-11eb-8b5c-7c67a234f601      0  \n",
       "906b65e3-ce95-11eb-a294-7c67a234f601      0  \n",
       "\n",
       "[244 rows x 12 columns]"
      ],
      "text/html": "<div>\n<style scoped>\n    .dataframe tbody tr th:only-of-type {\n        vertical-align: middle;\n    }\n\n    .dataframe tbody tr th {\n        vertical-align: top;\n    }\n\n    .dataframe thead th {\n        text-align: right;\n    }\n</style>\n<table border=\"1\" class=\"dataframe\">\n  <thead>\n    <tr style=\"text-align: right;\">\n      <th></th>\n      <th>Bash</th>\n      <th>Excel</th>\n      <th>Git</th>\n      <th>Java</th>\n      <th>JavaScript</th>\n      <th>PHP</th>\n      <th>PowerBI or Tableau</th>\n      <th>Python</th>\n      <th>R</th>\n      <th>SQL</th>\n      <th>VBA</th>\n      <th>other</th>\n    </tr>\n    <tr>\n      <th>quest_id</th>\n      <th></th>\n      <th></th>\n      <th></th>\n      <th></th>\n      <th></th>\n      <th></th>\n      <th></th>\n      <th></th>\n      <th></th>\n      <th></th>\n      <th></th>\n      <th></th>\n    </tr>\n  </thead>\n  <tbody>\n    <tr>\n      <th>905ddcf2-ce95-11eb-9a92-7c67a234f601</th>\n      <td>0</td>\n      <td>1</td>\n      <td>0</td>\n      <td>0</td>\n      <td>0</td>\n      <td>0</td>\n      <td>0</td>\n      <td>0</td>\n      <td>1</td>\n      <td>0</td>\n      <td>0</td>\n      <td>0</td>\n    </tr>\n    <tr>\n      <th>905e2608-ce95-11eb-809f-7c67a234f601</th>\n      <td>1</td>\n      <td>1</td>\n      <td>1</td>\n      <td>1</td>\n      <td>1</td>\n      <td>0</td>\n      <td>0</td>\n      <td>1</td>\n      <td>0</td>\n      <td>1</td>\n      <td>0</td>\n      <td>0</td>\n    </tr>\n    <tr>\n      <th>905e4cf5-ce95-11eb-96a9-7c67a234f601</th>\n      <td>0</td>\n      <td>1</td>\n      <td>0</td>\n      <td>1</td>\n      <td>1</td>\n      <td>1</td>\n      <td>0</td>\n      <td>1</td>\n      <td>0</td>\n      <td>0</td>\n      <td>0</td>\n      <td>0</td>\n    </tr>\n    <tr>\n      <th>905e73fd-ce95-11eb-a7b0-7c67a234f601</th>\n      <td>1</td>\n      <td>0</td>\n      <td>0</td>\n      <td>0</td>\n      <td>0</td>\n      <td>1</td>\n      <td>0</td>\n      <td>0</td>\n      <td>0</td>\n      <td>0</td>\n      <td>0</td>\n      <td>0</td>\n    </tr>\n    <tr>\n      <th>905e9b27-ce95-11eb-9c37-7c67a234f601</th>\n      <td>0</td>\n      <td>1</td>\n      <td>0</td>\n      <td>1</td>\n      <td>1</td>\n      <td>0</td>\n      <td>0</td>\n      <td>1</td>\n      <td>0</td>\n      <td>1</td>\n      <td>0</td>\n      <td>0</td>\n    </tr>\n    <tr>\n      <th>...</th>\n      <td>...</td>\n      <td>...</td>\n      <td>...</td>\n      <td>...</td>\n      <td>...</td>\n      <td>...</td>\n      <td>...</td>\n      <td>...</td>\n      <td>...</td>\n      <td>...</td>\n      <td>...</td>\n      <td>...</td>\n    </tr>\n    <tr>\n      <th>906b3c84-ce95-11eb-8c2a-7c67a234f601</th>\n      <td>0</td>\n      <td>1</td>\n      <td>0</td>\n      <td>0</td>\n      <td>0</td>\n      <td>0</td>\n      <td>0</td>\n      <td>0</td>\n      <td>0</td>\n      <td>0</td>\n      <td>0</td>\n      <td>0</td>\n    </tr>\n    <tr>\n      <th>906b3c85-ce95-11eb-9b87-7c67a234f601</th>\n      <td>1</td>\n      <td>1</td>\n      <td>1</td>\n      <td>0</td>\n      <td>1</td>\n      <td>0</td>\n      <td>1</td>\n      <td>0</td>\n      <td>0</td>\n      <td>0</td>\n      <td>0</td>\n      <td>0</td>\n    </tr>\n    <tr>\n      <th>906b3c86-ce95-11eb-b6a7-7c67a234f601</th>\n      <td>0</td>\n      <td>1</td>\n      <td>0</td>\n      <td>0</td>\n      <td>0</td>\n      <td>0</td>\n      <td>1</td>\n      <td>1</td>\n      <td>0</td>\n      <td>1</td>\n      <td>0</td>\n      <td>0</td>\n    </tr>\n    <tr>\n      <th>906b65e2-ce95-11eb-8b5c-7c67a234f601</th>\n      <td>0</td>\n      <td>0</td>\n      <td>0</td>\n      <td>0</td>\n      <td>0</td>\n      <td>0</td>\n      <td>0</td>\n      <td>0</td>\n      <td>0</td>\n      <td>1</td>\n      <td>0</td>\n      <td>0</td>\n    </tr>\n    <tr>\n      <th>906b65e3-ce95-11eb-a294-7c67a234f601</th>\n      <td>0</td>\n      <td>1</td>\n      <td>0</td>\n      <td>0</td>\n      <td>0</td>\n      <td>0</td>\n      <td>0</td>\n      <td>0</td>\n      <td>1</td>\n      <td>0</td>\n      <td>0</td>\n      <td>0</td>\n    </tr>\n  </tbody>\n</table>\n<p>244 rows × 12 columns</p>\n</div>"
     },
     "metadata": {},
     "execution_count": 66
    }
   ],
   "source": [
    "technology"
   ]
  },
  {
   "cell_type": "code",
   "execution_count": 67,
   "metadata": {},
   "outputs": [],
   "source": [
    "questindustry = pd.merge(questEnroll,industry,right_on= \"quest_id\", left_on=\"quest_id\")"
   ]
  },
  {
   "cell_type": "code",
   "execution_count": 76,
   "metadata": {},
   "outputs": [
    {
     "output_type": "execute_result",
     "data": {
      "text/plain": [
       "     Unnamed: 0_x  gender          dob commune                 created_at_x  \\\n",
       "0               2    male   17/05/1996  ht0111  2021-02-16T16:56:30.579504Z   \n",
       "1               6  female   30/04/1988  ht0111  2021-02-16T20:06:17.885833Z   \n",
       "2               7  female   10/09/1996  ht0111  2021-02-16T22:54:19.490806Z   \n",
       "3              11  female   30/12/1994  ht0111  2021-02-17T04:35:17.193779Z   \n",
       "4              13  female  3 aout 1977  ht0111  2021-02-17T12:13:45.466757Z   \n",
       "..            ...     ...          ...     ...                          ...   \n",
       "96            238    male   09/08/1991  ht0311  2021-03-03T00:04:49.909094Z   \n",
       "97            245    male   15/02/1994  ht0621  2021-03-02T18:39:19.873194Z   \n",
       "98            247    male   28/12/1993  ht0621  2021-03-14T15:29:32.474015Z   \n",
       "99            248    male   17/04/1992  ht0412  2021-03-08T16:35:07.806100Z   \n",
       "100           249    male   22/07/1993  ht1012  2021-03-10T21:41:05.708748Z   \n",
       "\n",
       "                     modified_at department      education_level  \\\n",
       "0    2021-02-16T16:56:30.579563Z       ht01  Bachelors (bacc +4)   \n",
       "1    2021-02-16T20:06:17.885862Z       ht01              Masters   \n",
       "2    2021-02-16T22:54:19.490841Z       ht01  Bachelors (bacc +4)   \n",
       "3    2021-02-17T04:35:17.193835Z       ht01                Other   \n",
       "4    2021-02-17T12:13:45.466785Z       ht01              unknown   \n",
       "..                           ...        ...                  ...   \n",
       "96   2021-03-03T00:04:49.909160Z       ht03                Other   \n",
       "97   2021-03-02T18:39:19.873237Z       ht06  Bachelors (bacc +4)   \n",
       "98   2021-03-14T15:29:32.474055Z       ht06  Bachelors (bacc +4)   \n",
       "99   2021-03-08T16:35:07.806161Z       ht04  Bachelors (bacc +4)   \n",
       "100  2021-03-10T21:41:05.708787Z       ht10              Masters   \n",
       "\n",
       "                                            university        study_domain  \\\n",
       "0                      Université d'Etat d'Haïti (UEH)                  []   \n",
       "1       Ecole Supérieure d'Infotronique d'Haïti (ESIH)           ['item1']   \n",
       "2       Ecole Supérieure d'Infotronique d'Haïti (ESIH)           ['item1']   \n",
       "3                                              unknown           ['item1']   \n",
       "4                                              unknown  ['item6', 'other']   \n",
       "..                                                 ...                 ...   \n",
       "96                                             unknown           ['item7']   \n",
       "97                                               other           ['other']   \n",
       "98   Centre de Techniques de Planification et d'Eco...           ['item2']   \n",
       "99                                               other           ['item1']   \n",
       "100                                              other           ['other']   \n",
       "\n",
       "     ... Finance Healthcare Insurance Manufacturing Marketing  \\\n",
       "0    ...       0          0         0             0         1   \n",
       "1    ...       0          0         0             0         0   \n",
       "2    ...       0          0         0             0         0   \n",
       "3    ...       0          0         0             0         0   \n",
       "4    ...       0          0         0             0         1   \n",
       "..   ...     ...        ...       ...           ...       ...   \n",
       "96   ...       0          0         0             0         0   \n",
       "97   ...       0          0         0             0         1   \n",
       "98   ...       0          1         0             0         0   \n",
       "99   ...       0          0         0             0         0   \n",
       "100  ...       0          0         0             0         0   \n",
       "\n",
       "    Public Sector/ Non-Profit Agencies Retail/ E-Commerce  \\\n",
       "0                                    0                  0   \n",
       "1                                    1                  0   \n",
       "2                                    0                  0   \n",
       "3                                    0                  0   \n",
       "4                                    0                  1   \n",
       "..                                 ...                ...   \n",
       "96                                   0                  0   \n",
       "97                                   1                  1   \n",
       "98                                   1                  0   \n",
       "99                                   0                  0   \n",
       "100                                  1                  0   \n",
       "\n",
       "     Technology (Software/ Internet) Transportation other  \n",
       "0                                  1              0     0  \n",
       "1                                  1              0     0  \n",
       "2                                  1              0     0  \n",
       "3                                  1              0     0  \n",
       "4                                  1              0     0  \n",
       "..                               ...            ...   ...  \n",
       "96                                 1              0     0  \n",
       "97                                 0              0     0  \n",
       "98                                 1              0     0  \n",
       "99                                 1              0     0  \n",
       "100                                0              0     0  \n",
       "\n",
       "[101 rows x 45 columns]"
      ],
      "text/html": "<div>\n<style scoped>\n    .dataframe tbody tr th:only-of-type {\n        vertical-align: middle;\n    }\n\n    .dataframe tbody tr th {\n        vertical-align: top;\n    }\n\n    .dataframe thead th {\n        text-align: right;\n    }\n</style>\n<table border=\"1\" class=\"dataframe\">\n  <thead>\n    <tr style=\"text-align: right;\">\n      <th></th>\n      <th>Unnamed: 0_x</th>\n      <th>gender</th>\n      <th>dob</th>\n      <th>commune</th>\n      <th>created_at_x</th>\n      <th>modified_at</th>\n      <th>department</th>\n      <th>education_level</th>\n      <th>university</th>\n      <th>study_domain</th>\n      <th>...</th>\n      <th>Finance</th>\n      <th>Healthcare</th>\n      <th>Insurance</th>\n      <th>Manufacturing</th>\n      <th>Marketing</th>\n      <th>Public Sector/ Non-Profit Agencies</th>\n      <th>Retail/ E-Commerce</th>\n      <th>Technology (Software/ Internet)</th>\n      <th>Transportation</th>\n      <th>other</th>\n    </tr>\n  </thead>\n  <tbody>\n    <tr>\n      <th>0</th>\n      <td>2</td>\n      <td>male</td>\n      <td>17/05/1996</td>\n      <td>ht0111</td>\n      <td>2021-02-16T16:56:30.579504Z</td>\n      <td>2021-02-16T16:56:30.579563Z</td>\n      <td>ht01</td>\n      <td>Bachelors (bacc +4)</td>\n      <td>Université d'Etat d'Haïti (UEH)</td>\n      <td>[]</td>\n      <td>...</td>\n      <td>0</td>\n      <td>0</td>\n      <td>0</td>\n      <td>0</td>\n      <td>1</td>\n      <td>0</td>\n      <td>0</td>\n      <td>1</td>\n      <td>0</td>\n      <td>0</td>\n    </tr>\n    <tr>\n      <th>1</th>\n      <td>6</td>\n      <td>female</td>\n      <td>30/04/1988</td>\n      <td>ht0111</td>\n      <td>2021-02-16T20:06:17.885833Z</td>\n      <td>2021-02-16T20:06:17.885862Z</td>\n      <td>ht01</td>\n      <td>Masters</td>\n      <td>Ecole Supérieure d'Infotronique d'Haïti (ESIH)</td>\n      <td>['item1']</td>\n      <td>...</td>\n      <td>0</td>\n      <td>0</td>\n      <td>0</td>\n      <td>0</td>\n      <td>0</td>\n      <td>1</td>\n      <td>0</td>\n      <td>1</td>\n      <td>0</td>\n      <td>0</td>\n    </tr>\n    <tr>\n      <th>2</th>\n      <td>7</td>\n      <td>female</td>\n      <td>10/09/1996</td>\n      <td>ht0111</td>\n      <td>2021-02-16T22:54:19.490806Z</td>\n      <td>2021-02-16T22:54:19.490841Z</td>\n      <td>ht01</td>\n      <td>Bachelors (bacc +4)</td>\n      <td>Ecole Supérieure d'Infotronique d'Haïti (ESIH)</td>\n      <td>['item1']</td>\n      <td>...</td>\n      <td>0</td>\n      <td>0</td>\n      <td>0</td>\n      <td>0</td>\n      <td>0</td>\n      <td>0</td>\n      <td>0</td>\n      <td>1</td>\n      <td>0</td>\n      <td>0</td>\n    </tr>\n    <tr>\n      <th>3</th>\n      <td>11</td>\n      <td>female</td>\n      <td>30/12/1994</td>\n      <td>ht0111</td>\n      <td>2021-02-17T04:35:17.193779Z</td>\n      <td>2021-02-17T04:35:17.193835Z</td>\n      <td>ht01</td>\n      <td>Other</td>\n      <td>unknown</td>\n      <td>['item1']</td>\n      <td>...</td>\n      <td>0</td>\n      <td>0</td>\n      <td>0</td>\n      <td>0</td>\n      <td>0</td>\n      <td>0</td>\n      <td>0</td>\n      <td>1</td>\n      <td>0</td>\n      <td>0</td>\n    </tr>\n    <tr>\n      <th>4</th>\n      <td>13</td>\n      <td>female</td>\n      <td>3 aout 1977</td>\n      <td>ht0111</td>\n      <td>2021-02-17T12:13:45.466757Z</td>\n      <td>2021-02-17T12:13:45.466785Z</td>\n      <td>ht01</td>\n      <td>unknown</td>\n      <td>unknown</td>\n      <td>['item6', 'other']</td>\n      <td>...</td>\n      <td>0</td>\n      <td>0</td>\n      <td>0</td>\n      <td>0</td>\n      <td>1</td>\n      <td>0</td>\n      <td>1</td>\n      <td>1</td>\n      <td>0</td>\n      <td>0</td>\n    </tr>\n    <tr>\n      <th>...</th>\n      <td>...</td>\n      <td>...</td>\n      <td>...</td>\n      <td>...</td>\n      <td>...</td>\n      <td>...</td>\n      <td>...</td>\n      <td>...</td>\n      <td>...</td>\n      <td>...</td>\n      <td>...</td>\n      <td>...</td>\n      <td>...</td>\n      <td>...</td>\n      <td>...</td>\n      <td>...</td>\n      <td>...</td>\n      <td>...</td>\n      <td>...</td>\n      <td>...</td>\n      <td>...</td>\n    </tr>\n    <tr>\n      <th>96</th>\n      <td>238</td>\n      <td>male</td>\n      <td>09/08/1991</td>\n      <td>ht0311</td>\n      <td>2021-03-03T00:04:49.909094Z</td>\n      <td>2021-03-03T00:04:49.909160Z</td>\n      <td>ht03</td>\n      <td>Other</td>\n      <td>unknown</td>\n      <td>['item7']</td>\n      <td>...</td>\n      <td>0</td>\n      <td>0</td>\n      <td>0</td>\n      <td>0</td>\n      <td>0</td>\n      <td>0</td>\n      <td>0</td>\n      <td>1</td>\n      <td>0</td>\n      <td>0</td>\n    </tr>\n    <tr>\n      <th>97</th>\n      <td>245</td>\n      <td>male</td>\n      <td>15/02/1994</td>\n      <td>ht0621</td>\n      <td>2021-03-02T18:39:19.873194Z</td>\n      <td>2021-03-02T18:39:19.873237Z</td>\n      <td>ht06</td>\n      <td>Bachelors (bacc +4)</td>\n      <td>other</td>\n      <td>['other']</td>\n      <td>...</td>\n      <td>0</td>\n      <td>0</td>\n      <td>0</td>\n      <td>0</td>\n      <td>1</td>\n      <td>1</td>\n      <td>1</td>\n      <td>0</td>\n      <td>0</td>\n      <td>0</td>\n    </tr>\n    <tr>\n      <th>98</th>\n      <td>247</td>\n      <td>male</td>\n      <td>28/12/1993</td>\n      <td>ht0621</td>\n      <td>2021-03-14T15:29:32.474015Z</td>\n      <td>2021-03-14T15:29:32.474055Z</td>\n      <td>ht06</td>\n      <td>Bachelors (bacc +4)</td>\n      <td>Centre de Techniques de Planification et d'Eco...</td>\n      <td>['item2']</td>\n      <td>...</td>\n      <td>0</td>\n      <td>1</td>\n      <td>0</td>\n      <td>0</td>\n      <td>0</td>\n      <td>1</td>\n      <td>0</td>\n      <td>1</td>\n      <td>0</td>\n      <td>0</td>\n    </tr>\n    <tr>\n      <th>99</th>\n      <td>248</td>\n      <td>male</td>\n      <td>17/04/1992</td>\n      <td>ht0412</td>\n      <td>2021-03-08T16:35:07.806100Z</td>\n      <td>2021-03-08T16:35:07.806161Z</td>\n      <td>ht04</td>\n      <td>Bachelors (bacc +4)</td>\n      <td>other</td>\n      <td>['item1']</td>\n      <td>...</td>\n      <td>0</td>\n      <td>0</td>\n      <td>0</td>\n      <td>0</td>\n      <td>0</td>\n      <td>0</td>\n      <td>0</td>\n      <td>1</td>\n      <td>0</td>\n      <td>0</td>\n    </tr>\n    <tr>\n      <th>100</th>\n      <td>249</td>\n      <td>male</td>\n      <td>22/07/1993</td>\n      <td>ht1012</td>\n      <td>2021-03-10T21:41:05.708748Z</td>\n      <td>2021-03-10T21:41:05.708787Z</td>\n      <td>ht10</td>\n      <td>Masters</td>\n      <td>other</td>\n      <td>['other']</td>\n      <td>...</td>\n      <td>0</td>\n      <td>0</td>\n      <td>0</td>\n      <td>0</td>\n      <td>0</td>\n      <td>1</td>\n      <td>0</td>\n      <td>0</td>\n      <td>0</td>\n      <td>0</td>\n    </tr>\n  </tbody>\n</table>\n<p>101 rows × 45 columns</p>\n</div>"
     },
     "metadata": {},
     "execution_count": 76
    }
   ],
   "source": [
    "questindustry"
   ]
  },
  {
   "cell_type": "code",
   "execution_count": 69,
   "metadata": {},
   "outputs": [],
   "source": [
    "queststudy_domain= pd.merge(questindustry,study_domain,right_on=\"quest_id\" , left_on= \"quest_id\")"
   ]
  },
  {
   "cell_type": "code",
   "execution_count": 74,
   "metadata": {},
   "outputs": [
    {
     "output_type": "execute_result",
     "data": {
      "text/plain": [
       "     Unnamed: 0_x  gender          dob commune                 created_at_x  \\\n",
       "0               2    male   17/05/1996  ht0111  2021-02-16T16:56:30.579504Z   \n",
       "1               6  female   30/04/1988  ht0111  2021-02-16T20:06:17.885833Z   \n",
       "2               7  female   10/09/1996  ht0111  2021-02-16T22:54:19.490806Z   \n",
       "3              11  female   30/12/1994  ht0111  2021-02-17T04:35:17.193779Z   \n",
       "4              13  female  3 aout 1977  ht0111  2021-02-17T12:13:45.466757Z   \n",
       "..            ...     ...          ...     ...                          ...   \n",
       "96            238    male   09/08/1991  ht0311  2021-03-03T00:04:49.909094Z   \n",
       "97            245    male   15/02/1994  ht0621  2021-03-02T18:39:19.873194Z   \n",
       "98            247    male   28/12/1993  ht0621  2021-03-14T15:29:32.474015Z   \n",
       "99            248    male   17/04/1992  ht0412  2021-03-08T16:35:07.806100Z   \n",
       "100           249    male   22/07/1993  ht1012  2021-03-10T21:41:05.708748Z   \n",
       "\n",
       "                     modified_at department      education_level  \\\n",
       "0    2021-02-16T16:56:30.579563Z       ht01  Bachelors (bacc +4)   \n",
       "1    2021-02-16T20:06:17.885862Z       ht01              Masters   \n",
       "2    2021-02-16T22:54:19.490841Z       ht01  Bachelors (bacc +4)   \n",
       "3    2021-02-17T04:35:17.193835Z       ht01                Other   \n",
       "4    2021-02-17T12:13:45.466785Z       ht01              unknown   \n",
       "..                           ...        ...                  ...   \n",
       "96   2021-03-03T00:04:49.909160Z       ht03                Other   \n",
       "97   2021-03-02T18:39:19.873237Z       ht06  Bachelors (bacc +4)   \n",
       "98   2021-03-14T15:29:32.474055Z       ht06  Bachelors (bacc +4)   \n",
       "99   2021-03-08T16:35:07.806161Z       ht04  Bachelors (bacc +4)   \n",
       "100  2021-03-10T21:41:05.708787Z       ht10              Masters   \n",
       "\n",
       "                                            university        study_domain  \\\n",
       "0                      Université d'Etat d'Haïti (UEH)                  []   \n",
       "1       Ecole Supérieure d'Infotronique d'Haïti (ESIH)           ['item1']   \n",
       "2       Ecole Supérieure d'Infotronique d'Haïti (ESIH)           ['item1']   \n",
       "3                                              unknown           ['item1']   \n",
       "4                                              unknown  ['item6', 'other']   \n",
       "..                                                 ...                 ...   \n",
       "96                                             unknown           ['item7']   \n",
       "97                                               other           ['other']   \n",
       "98   Centre de Techniques de Planification et d'Eco...           ['item2']   \n",
       "99                                               other           ['item1']   \n",
       "100                                              other           ['other']   \n",
       "\n",
       "     ... Finance_y Healthcare_y Insurance_y Manufacturing_y Marketing_y  \\\n",
       "0    ...         0            0           0               0           1   \n",
       "1    ...         0            0           0               0           0   \n",
       "2    ...         0            0           0               0           0   \n",
       "3    ...         0            0           0               0           0   \n",
       "4    ...         0            0           0               0           1   \n",
       "..   ...       ...          ...         ...             ...         ...   \n",
       "96   ...         0            0           0               0           0   \n",
       "97   ...         0            0           0               0           1   \n",
       "98   ...         0            1           0               0           0   \n",
       "99   ...         0            0           0               0           0   \n",
       "100  ...         0            0           0               0           0   \n",
       "\n",
       "    Public Sector/ Non-Profit Agencies_y Retail/ E-Commerce_y  \\\n",
       "0                                      0                    0   \n",
       "1                                      1                    0   \n",
       "2                                      0                    0   \n",
       "3                                      0                    0   \n",
       "4                                      0                    1   \n",
       "..                                   ...                  ...   \n",
       "96                                     0                    0   \n",
       "97                                     1                    1   \n",
       "98                                     1                    0   \n",
       "99                                     0                    0   \n",
       "100                                    1                    0   \n",
       "\n",
       "     Technology (Software/ Internet)_y Transportation_y other_y  \n",
       "0                                    1                0       0  \n",
       "1                                    1                0       0  \n",
       "2                                    1                0       0  \n",
       "3                                    1                0       0  \n",
       "4                                    1                0       0  \n",
       "..                                 ...              ...     ...  \n",
       "96                                   1                0       0  \n",
       "97                                   0                0       0  \n",
       "98                                   1                0       0  \n",
       "99                                   1                0       0  \n",
       "100                                  0                0       0  \n",
       "\n",
       "[101 rows x 59 columns]"
      ],
      "text/html": "<div>\n<style scoped>\n    .dataframe tbody tr th:only-of-type {\n        vertical-align: middle;\n    }\n\n    .dataframe tbody tr th {\n        vertical-align: top;\n    }\n\n    .dataframe thead th {\n        text-align: right;\n    }\n</style>\n<table border=\"1\" class=\"dataframe\">\n  <thead>\n    <tr style=\"text-align: right;\">\n      <th></th>\n      <th>Unnamed: 0_x</th>\n      <th>gender</th>\n      <th>dob</th>\n      <th>commune</th>\n      <th>created_at_x</th>\n      <th>modified_at</th>\n      <th>department</th>\n      <th>education_level</th>\n      <th>university</th>\n      <th>study_domain</th>\n      <th>...</th>\n      <th>Finance_y</th>\n      <th>Healthcare_y</th>\n      <th>Insurance_y</th>\n      <th>Manufacturing_y</th>\n      <th>Marketing_y</th>\n      <th>Public Sector/ Non-Profit Agencies_y</th>\n      <th>Retail/ E-Commerce_y</th>\n      <th>Technology (Software/ Internet)_y</th>\n      <th>Transportation_y</th>\n      <th>other_y</th>\n    </tr>\n  </thead>\n  <tbody>\n    <tr>\n      <th>0</th>\n      <td>2</td>\n      <td>male</td>\n      <td>17/05/1996</td>\n      <td>ht0111</td>\n      <td>2021-02-16T16:56:30.579504Z</td>\n      <td>2021-02-16T16:56:30.579563Z</td>\n      <td>ht01</td>\n      <td>Bachelors (bacc +4)</td>\n      <td>Université d'Etat d'Haïti (UEH)</td>\n      <td>[]</td>\n      <td>...</td>\n      <td>0</td>\n      <td>0</td>\n      <td>0</td>\n      <td>0</td>\n      <td>1</td>\n      <td>0</td>\n      <td>0</td>\n      <td>1</td>\n      <td>0</td>\n      <td>0</td>\n    </tr>\n    <tr>\n      <th>1</th>\n      <td>6</td>\n      <td>female</td>\n      <td>30/04/1988</td>\n      <td>ht0111</td>\n      <td>2021-02-16T20:06:17.885833Z</td>\n      <td>2021-02-16T20:06:17.885862Z</td>\n      <td>ht01</td>\n      <td>Masters</td>\n      <td>Ecole Supérieure d'Infotronique d'Haïti (ESIH)</td>\n      <td>['item1']</td>\n      <td>...</td>\n      <td>0</td>\n      <td>0</td>\n      <td>0</td>\n      <td>0</td>\n      <td>0</td>\n      <td>1</td>\n      <td>0</td>\n      <td>1</td>\n      <td>0</td>\n      <td>0</td>\n    </tr>\n    <tr>\n      <th>2</th>\n      <td>7</td>\n      <td>female</td>\n      <td>10/09/1996</td>\n      <td>ht0111</td>\n      <td>2021-02-16T22:54:19.490806Z</td>\n      <td>2021-02-16T22:54:19.490841Z</td>\n      <td>ht01</td>\n      <td>Bachelors (bacc +4)</td>\n      <td>Ecole Supérieure d'Infotronique d'Haïti (ESIH)</td>\n      <td>['item1']</td>\n      <td>...</td>\n      <td>0</td>\n      <td>0</td>\n      <td>0</td>\n      <td>0</td>\n      <td>0</td>\n      <td>0</td>\n      <td>0</td>\n      <td>1</td>\n      <td>0</td>\n      <td>0</td>\n    </tr>\n    <tr>\n      <th>3</th>\n      <td>11</td>\n      <td>female</td>\n      <td>30/12/1994</td>\n      <td>ht0111</td>\n      <td>2021-02-17T04:35:17.193779Z</td>\n      <td>2021-02-17T04:35:17.193835Z</td>\n      <td>ht01</td>\n      <td>Other</td>\n      <td>unknown</td>\n      <td>['item1']</td>\n      <td>...</td>\n      <td>0</td>\n      <td>0</td>\n      <td>0</td>\n      <td>0</td>\n      <td>0</td>\n      <td>0</td>\n      <td>0</td>\n      <td>1</td>\n      <td>0</td>\n      <td>0</td>\n    </tr>\n    <tr>\n      <th>4</th>\n      <td>13</td>\n      <td>female</td>\n      <td>3 aout 1977</td>\n      <td>ht0111</td>\n      <td>2021-02-17T12:13:45.466757Z</td>\n      <td>2021-02-17T12:13:45.466785Z</td>\n      <td>ht01</td>\n      <td>unknown</td>\n      <td>unknown</td>\n      <td>['item6', 'other']</td>\n      <td>...</td>\n      <td>0</td>\n      <td>0</td>\n      <td>0</td>\n      <td>0</td>\n      <td>1</td>\n      <td>0</td>\n      <td>1</td>\n      <td>1</td>\n      <td>0</td>\n      <td>0</td>\n    </tr>\n    <tr>\n      <th>...</th>\n      <td>...</td>\n      <td>...</td>\n      <td>...</td>\n      <td>...</td>\n      <td>...</td>\n      <td>...</td>\n      <td>...</td>\n      <td>...</td>\n      <td>...</td>\n      <td>...</td>\n      <td>...</td>\n      <td>...</td>\n      <td>...</td>\n      <td>...</td>\n      <td>...</td>\n      <td>...</td>\n      <td>...</td>\n      <td>...</td>\n      <td>...</td>\n      <td>...</td>\n      <td>...</td>\n    </tr>\n    <tr>\n      <th>96</th>\n      <td>238</td>\n      <td>male</td>\n      <td>09/08/1991</td>\n      <td>ht0311</td>\n      <td>2021-03-03T00:04:49.909094Z</td>\n      <td>2021-03-03T00:04:49.909160Z</td>\n      <td>ht03</td>\n      <td>Other</td>\n      <td>unknown</td>\n      <td>['item7']</td>\n      <td>...</td>\n      <td>0</td>\n      <td>0</td>\n      <td>0</td>\n      <td>0</td>\n      <td>0</td>\n      <td>0</td>\n      <td>0</td>\n      <td>1</td>\n      <td>0</td>\n      <td>0</td>\n    </tr>\n    <tr>\n      <th>97</th>\n      <td>245</td>\n      <td>male</td>\n      <td>15/02/1994</td>\n      <td>ht0621</td>\n      <td>2021-03-02T18:39:19.873194Z</td>\n      <td>2021-03-02T18:39:19.873237Z</td>\n      <td>ht06</td>\n      <td>Bachelors (bacc +4)</td>\n      <td>other</td>\n      <td>['other']</td>\n      <td>...</td>\n      <td>0</td>\n      <td>0</td>\n      <td>0</td>\n      <td>0</td>\n      <td>1</td>\n      <td>1</td>\n      <td>1</td>\n      <td>0</td>\n      <td>0</td>\n      <td>0</td>\n    </tr>\n    <tr>\n      <th>98</th>\n      <td>247</td>\n      <td>male</td>\n      <td>28/12/1993</td>\n      <td>ht0621</td>\n      <td>2021-03-14T15:29:32.474015Z</td>\n      <td>2021-03-14T15:29:32.474055Z</td>\n      <td>ht06</td>\n      <td>Bachelors (bacc +4)</td>\n      <td>Centre de Techniques de Planification et d'Eco...</td>\n      <td>['item2']</td>\n      <td>...</td>\n      <td>0</td>\n      <td>1</td>\n      <td>0</td>\n      <td>0</td>\n      <td>0</td>\n      <td>1</td>\n      <td>0</td>\n      <td>1</td>\n      <td>0</td>\n      <td>0</td>\n    </tr>\n    <tr>\n      <th>99</th>\n      <td>248</td>\n      <td>male</td>\n      <td>17/04/1992</td>\n      <td>ht0412</td>\n      <td>2021-03-08T16:35:07.806100Z</td>\n      <td>2021-03-08T16:35:07.806161Z</td>\n      <td>ht04</td>\n      <td>Bachelors (bacc +4)</td>\n      <td>other</td>\n      <td>['item1']</td>\n      <td>...</td>\n      <td>0</td>\n      <td>0</td>\n      <td>0</td>\n      <td>0</td>\n      <td>0</td>\n      <td>0</td>\n      <td>0</td>\n      <td>1</td>\n      <td>0</td>\n      <td>0</td>\n    </tr>\n    <tr>\n      <th>100</th>\n      <td>249</td>\n      <td>male</td>\n      <td>22/07/1993</td>\n      <td>ht1012</td>\n      <td>2021-03-10T21:41:05.708748Z</td>\n      <td>2021-03-10T21:41:05.708787Z</td>\n      <td>ht10</td>\n      <td>Masters</td>\n      <td>other</td>\n      <td>['other']</td>\n      <td>...</td>\n      <td>0</td>\n      <td>0</td>\n      <td>0</td>\n      <td>0</td>\n      <td>0</td>\n      <td>1</td>\n      <td>0</td>\n      <td>0</td>\n      <td>0</td>\n      <td>0</td>\n    </tr>\n  </tbody>\n</table>\n<p>101 rows × 59 columns</p>\n</div>"
     },
     "metadata": {},
     "execution_count": 74
    }
   ],
   "source": [
    "queststudy_domain"
   ]
  },
  {
   "cell_type": "code",
   "execution_count": 77,
   "metadata": {},
   "outputs": [],
   "source": [
    "questtechnology = pd.merge (queststudy_domain,technology,right_on=\"quest_id\",left_on=\"quest_id\")"
   ]
  },
  {
   "cell_type": "code",
   "execution_count": 78,
   "metadata": {},
   "outputs": [
    {
     "output_type": "execute_result",
     "data": {
      "text/plain": [
       "    Unnamed: 0_x  gender          dob commune                 created_at_x  \\\n",
       "0              2    male   17/05/1996  ht0111  2021-02-16T16:56:30.579504Z   \n",
       "1              6  female   30/04/1988  ht0111  2021-02-16T20:06:17.885833Z   \n",
       "2              7  female   10/09/1996  ht0111  2021-02-16T22:54:19.490806Z   \n",
       "3             11  female   30/12/1994  ht0111  2021-02-17T04:35:17.193779Z   \n",
       "4             13  female  3 aout 1977  ht0111  2021-02-17T12:13:45.466757Z   \n",
       "..           ...     ...          ...     ...                          ...   \n",
       "93           237    male   19/04/1987  ht0311  2021-02-21T16:06:15.024499Z   \n",
       "94           245    male   15/02/1994  ht0621  2021-03-02T18:39:19.873194Z   \n",
       "95           247    male   28/12/1993  ht0621  2021-03-14T15:29:32.474015Z   \n",
       "96           248    male   17/04/1992  ht0412  2021-03-08T16:35:07.806100Z   \n",
       "97           249    male   22/07/1993  ht1012  2021-03-10T21:41:05.708748Z   \n",
       "\n",
       "                    modified_at department      education_level  \\\n",
       "0   2021-02-16T16:56:30.579563Z       ht01  Bachelors (bacc +4)   \n",
       "1   2021-02-16T20:06:17.885862Z       ht01              Masters   \n",
       "2   2021-02-16T22:54:19.490841Z       ht01  Bachelors (bacc +4)   \n",
       "3   2021-02-17T04:35:17.193835Z       ht01                Other   \n",
       "4   2021-02-17T12:13:45.466785Z       ht01              unknown   \n",
       "..                          ...        ...                  ...   \n",
       "93  2021-02-21T16:06:15.024556Z       ht03  Bachelors (bacc +4)   \n",
       "94  2021-03-02T18:39:19.873237Z       ht06  Bachelors (bacc +4)   \n",
       "95  2021-03-14T15:29:32.474055Z       ht06  Bachelors (bacc +4)   \n",
       "96  2021-03-08T16:35:07.806161Z       ht04  Bachelors (bacc +4)   \n",
       "97  2021-03-10T21:41:05.708787Z       ht10              Masters   \n",
       "\n",
       "                                           university        study_domain  \\\n",
       "0                     Université d'Etat d'Haïti (UEH)                  []   \n",
       "1      Ecole Supérieure d'Infotronique d'Haïti (ESIH)           ['item1']   \n",
       "2      Ecole Supérieure d'Infotronique d'Haïti (ESIH)           ['item1']   \n",
       "3                                             unknown           ['item1']   \n",
       "4                                             unknown  ['item6', 'other']   \n",
       "..                                                ...                 ...   \n",
       "93                    Université d'Etat d'Haïti (UEH)           ['item1']   \n",
       "94                                              other           ['other']   \n",
       "95  Centre de Techniques de Planification et d'Eco...           ['item2']   \n",
       "96                                              other           ['item1']   \n",
       "97                                              other           ['other']   \n",
       "\n",
       "    ... Git Java JavaScript PHP PowerBI or Tableau Python  R  SQL VBA other  \n",
       "0   ...   1    1          1   0                  0      1  0    1   0     0  \n",
       "1   ...   0    1          0   1                  0      1  1    1   0     0  \n",
       "2   ...   0    1          1   1                  0      0  0    0   0     0  \n",
       "3   ...   0    0          0   1                  0      0  0    1   0     0  \n",
       "4   ...   0    0          0   0                  0      0  0    0   0     0  \n",
       "..  ...  ..  ...        ...  ..                ...    ... ..  ...  ..   ...  \n",
       "93  ...   0    1          0   1                  0      0  0    1   0     0  \n",
       "94  ...   0    0          0   0                  0      0  0    0   0     0  \n",
       "95  ...   0    0          0   0                  1      1  0    1   0     0  \n",
       "96  ...   0    0          0   0                  0      0  0    1   0     0  \n",
       "97  ...   0    0          0   0                  0      0  1    0   0     0  \n",
       "\n",
       "[98 rows x 71 columns]"
      ],
      "text/html": "<div>\n<style scoped>\n    .dataframe tbody tr th:only-of-type {\n        vertical-align: middle;\n    }\n\n    .dataframe tbody tr th {\n        vertical-align: top;\n    }\n\n    .dataframe thead th {\n        text-align: right;\n    }\n</style>\n<table border=\"1\" class=\"dataframe\">\n  <thead>\n    <tr style=\"text-align: right;\">\n      <th></th>\n      <th>Unnamed: 0_x</th>\n      <th>gender</th>\n      <th>dob</th>\n      <th>commune</th>\n      <th>created_at_x</th>\n      <th>modified_at</th>\n      <th>department</th>\n      <th>education_level</th>\n      <th>university</th>\n      <th>study_domain</th>\n      <th>...</th>\n      <th>Git</th>\n      <th>Java</th>\n      <th>JavaScript</th>\n      <th>PHP</th>\n      <th>PowerBI or Tableau</th>\n      <th>Python</th>\n      <th>R</th>\n      <th>SQL</th>\n      <th>VBA</th>\n      <th>other</th>\n    </tr>\n  </thead>\n  <tbody>\n    <tr>\n      <th>0</th>\n      <td>2</td>\n      <td>male</td>\n      <td>17/05/1996</td>\n      <td>ht0111</td>\n      <td>2021-02-16T16:56:30.579504Z</td>\n      <td>2021-02-16T16:56:30.579563Z</td>\n      <td>ht01</td>\n      <td>Bachelors (bacc +4)</td>\n      <td>Université d'Etat d'Haïti (UEH)</td>\n      <td>[]</td>\n      <td>...</td>\n      <td>1</td>\n      <td>1</td>\n      <td>1</td>\n      <td>0</td>\n      <td>0</td>\n      <td>1</td>\n      <td>0</td>\n      <td>1</td>\n      <td>0</td>\n      <td>0</td>\n    </tr>\n    <tr>\n      <th>1</th>\n      <td>6</td>\n      <td>female</td>\n      <td>30/04/1988</td>\n      <td>ht0111</td>\n      <td>2021-02-16T20:06:17.885833Z</td>\n      <td>2021-02-16T20:06:17.885862Z</td>\n      <td>ht01</td>\n      <td>Masters</td>\n      <td>Ecole Supérieure d'Infotronique d'Haïti (ESIH)</td>\n      <td>['item1']</td>\n      <td>...</td>\n      <td>0</td>\n      <td>1</td>\n      <td>0</td>\n      <td>1</td>\n      <td>0</td>\n      <td>1</td>\n      <td>1</td>\n      <td>1</td>\n      <td>0</td>\n      <td>0</td>\n    </tr>\n    <tr>\n      <th>2</th>\n      <td>7</td>\n      <td>female</td>\n      <td>10/09/1996</td>\n      <td>ht0111</td>\n      <td>2021-02-16T22:54:19.490806Z</td>\n      <td>2021-02-16T22:54:19.490841Z</td>\n      <td>ht01</td>\n      <td>Bachelors (bacc +4)</td>\n      <td>Ecole Supérieure d'Infotronique d'Haïti (ESIH)</td>\n      <td>['item1']</td>\n      <td>...</td>\n      <td>0</td>\n      <td>1</td>\n      <td>1</td>\n      <td>1</td>\n      <td>0</td>\n      <td>0</td>\n      <td>0</td>\n      <td>0</td>\n      <td>0</td>\n      <td>0</td>\n    </tr>\n    <tr>\n      <th>3</th>\n      <td>11</td>\n      <td>female</td>\n      <td>30/12/1994</td>\n      <td>ht0111</td>\n      <td>2021-02-17T04:35:17.193779Z</td>\n      <td>2021-02-17T04:35:17.193835Z</td>\n      <td>ht01</td>\n      <td>Other</td>\n      <td>unknown</td>\n      <td>['item1']</td>\n      <td>...</td>\n      <td>0</td>\n      <td>0</td>\n      <td>0</td>\n      <td>1</td>\n      <td>0</td>\n      <td>0</td>\n      <td>0</td>\n      <td>1</td>\n      <td>0</td>\n      <td>0</td>\n    </tr>\n    <tr>\n      <th>4</th>\n      <td>13</td>\n      <td>female</td>\n      <td>3 aout 1977</td>\n      <td>ht0111</td>\n      <td>2021-02-17T12:13:45.466757Z</td>\n      <td>2021-02-17T12:13:45.466785Z</td>\n      <td>ht01</td>\n      <td>unknown</td>\n      <td>unknown</td>\n      <td>['item6', 'other']</td>\n      <td>...</td>\n      <td>0</td>\n      <td>0</td>\n      <td>0</td>\n      <td>0</td>\n      <td>0</td>\n      <td>0</td>\n      <td>0</td>\n      <td>0</td>\n      <td>0</td>\n      <td>0</td>\n    </tr>\n    <tr>\n      <th>...</th>\n      <td>...</td>\n      <td>...</td>\n      <td>...</td>\n      <td>...</td>\n      <td>...</td>\n      <td>...</td>\n      <td>...</td>\n      <td>...</td>\n      <td>...</td>\n      <td>...</td>\n      <td>...</td>\n      <td>...</td>\n      <td>...</td>\n      <td>...</td>\n      <td>...</td>\n      <td>...</td>\n      <td>...</td>\n      <td>...</td>\n      <td>...</td>\n      <td>...</td>\n      <td>...</td>\n    </tr>\n    <tr>\n      <th>93</th>\n      <td>237</td>\n      <td>male</td>\n      <td>19/04/1987</td>\n      <td>ht0311</td>\n      <td>2021-02-21T16:06:15.024499Z</td>\n      <td>2021-02-21T16:06:15.024556Z</td>\n      <td>ht03</td>\n      <td>Bachelors (bacc +4)</td>\n      <td>Université d'Etat d'Haïti (UEH)</td>\n      <td>['item1']</td>\n      <td>...</td>\n      <td>0</td>\n      <td>1</td>\n      <td>0</td>\n      <td>1</td>\n      <td>0</td>\n      <td>0</td>\n      <td>0</td>\n      <td>1</td>\n      <td>0</td>\n      <td>0</td>\n    </tr>\n    <tr>\n      <th>94</th>\n      <td>245</td>\n      <td>male</td>\n      <td>15/02/1994</td>\n      <td>ht0621</td>\n      <td>2021-03-02T18:39:19.873194Z</td>\n      <td>2021-03-02T18:39:19.873237Z</td>\n      <td>ht06</td>\n      <td>Bachelors (bacc +4)</td>\n      <td>other</td>\n      <td>['other']</td>\n      <td>...</td>\n      <td>0</td>\n      <td>0</td>\n      <td>0</td>\n      <td>0</td>\n      <td>0</td>\n      <td>0</td>\n      <td>0</td>\n      <td>0</td>\n      <td>0</td>\n      <td>0</td>\n    </tr>\n    <tr>\n      <th>95</th>\n      <td>247</td>\n      <td>male</td>\n      <td>28/12/1993</td>\n      <td>ht0621</td>\n      <td>2021-03-14T15:29:32.474015Z</td>\n      <td>2021-03-14T15:29:32.474055Z</td>\n      <td>ht06</td>\n      <td>Bachelors (bacc +4)</td>\n      <td>Centre de Techniques de Planification et d'Eco...</td>\n      <td>['item2']</td>\n      <td>...</td>\n      <td>0</td>\n      <td>0</td>\n      <td>0</td>\n      <td>0</td>\n      <td>1</td>\n      <td>1</td>\n      <td>0</td>\n      <td>1</td>\n      <td>0</td>\n      <td>0</td>\n    </tr>\n    <tr>\n      <th>96</th>\n      <td>248</td>\n      <td>male</td>\n      <td>17/04/1992</td>\n      <td>ht0412</td>\n      <td>2021-03-08T16:35:07.806100Z</td>\n      <td>2021-03-08T16:35:07.806161Z</td>\n      <td>ht04</td>\n      <td>Bachelors (bacc +4)</td>\n      <td>other</td>\n      <td>['item1']</td>\n      <td>...</td>\n      <td>0</td>\n      <td>0</td>\n      <td>0</td>\n      <td>0</td>\n      <td>0</td>\n      <td>0</td>\n      <td>0</td>\n      <td>1</td>\n      <td>0</td>\n      <td>0</td>\n    </tr>\n    <tr>\n      <th>97</th>\n      <td>249</td>\n      <td>male</td>\n      <td>22/07/1993</td>\n      <td>ht1012</td>\n      <td>2021-03-10T21:41:05.708748Z</td>\n      <td>2021-03-10T21:41:05.708787Z</td>\n      <td>ht10</td>\n      <td>Masters</td>\n      <td>other</td>\n      <td>['other']</td>\n      <td>...</td>\n      <td>0</td>\n      <td>0</td>\n      <td>0</td>\n      <td>0</td>\n      <td>0</td>\n      <td>0</td>\n      <td>1</td>\n      <td>0</td>\n      <td>0</td>\n      <td>0</td>\n    </tr>\n  </tbody>\n</table>\n<p>98 rows × 71 columns</p>\n</div>"
     },
     "metadata": {},
     "execution_count": 78
    }
   ],
   "source": [
    "questtechnology"
   ]
  },
  {
   "cell_type": "code",
   "execution_count": null,
   "metadata": {},
   "outputs": [],
   "source": []
  }
 ]
}